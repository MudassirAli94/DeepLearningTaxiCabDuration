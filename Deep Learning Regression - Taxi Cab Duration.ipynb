{
 "cells": [
  {
   "cell_type": "code",
   "execution_count": 1,
   "id": "cdfbfe39",
   "metadata": {},
   "outputs": [
    {
     "name": "stdout",
     "output_type": "stream",
     "text": [
      "No GPU found\n"
     ]
    }
   ],
   "source": [
    "import warnings\n",
    "warnings.filterwarnings(\"ignore\")\n",
    "import pandas as pd\n",
    "import numpy as np\n",
    "#import shap\n",
    "import lime\n",
    "from lime import lime_tabular\n",
    "#shap.initjs()\n",
    "pd.set_option('display.max_columns', None)\n",
    "pd.set_option('display.max_rows', None)\n",
    "import matplotlib.pyplot as plt\n",
    "%matplotlib inline\n",
    "plt.style.use(\"ggplot\")\n",
    "import seaborn as sns\n",
    "import plotly.graph_objects as go\n",
    "import plotly.express as px\n",
    "import plotly.io as pio\n",
    "#import plotly.offline as pyo\n",
    "#pio.renderers.default='notebook'\n",
    "import math\n",
    "\n",
    "## Machine Learning Packages\n",
    "from sklearn.model_selection import train_test_split\n",
    "import eli5\n",
    "from sklearn.metrics import (confusion_matrix, classification_report, roc_auc_score,roc_curve,\n",
    "accuracy_score, f1_score, precision_score, recall_score, auc)\n",
    "from sklearn.model_selection import RandomizedSearchCV, GridSearchCV\n",
    "from sklearn.model_selection import StratifiedKFold\n",
    "from sklearn import metrics\n",
    "from sklearn.ensemble import GradientBoostingClassifier\n",
    "from sklearn.linear_model import LogisticRegression\n",
    "from sklearn.neighbors import KNeighborsClassifier\n",
    "from sklearn.ensemble import RandomForestClassifier\n",
    "from xgboost import XGBClassifier\n",
    "from sklearn import tree\n",
    "from sklearn.svm import SVC\n",
    "from sklearn.covariance import EllipticEnvelope\n",
    "from sklearn.ensemble import IsolationForest\n",
    "from sklearn.naive_bayes import GaussianNB\n",
    "from sklearn.cluster import KMeans\n",
    "import joblib\n",
    "\n",
    "from sklearn.metrics import r2_score\n",
    "from sklearn.metrics import mean_absolute_error as mae\n",
    "from sklearn.metrics import mean_squared_error as mse\n",
    "\n",
    "from sklearn.metrics import confusion_matrix, ConfusionMatrixDisplay, plot_confusion_matrix\n",
    "\n",
    "import os\n",
    "import tensorflow as tf\n",
    "\n",
    "# os.environ['CUDA_VISIBLE_DEVICES'] = \"-1\"\n",
    "\n",
    "if tf.test.gpu_device_name():\n",
    "    print('GPU found')\n",
    "else:\n",
    "    print(\"No GPU found\")\n",
    "\n",
    "# print(tf.config.list_physical_devices('GPU'))\n",
    "# print(\"Num GPUs Available: \", len(tf.config.list_physical_devices('GPU')))\n",
    "import tensorflow_data_validation as tfdv"
   ]
  },
  {
   "cell_type": "code",
   "execution_count": 2,
   "id": "f113d223",
   "metadata": {},
   "outputs": [
    {
     "name": "stdout",
     "output_type": "stream",
     "text": [
      "The original number of records: 6404796 , new number of records: 6339355. We have: 0.9897825004886963 , of the data left\n"
     ]
    }
   ],
   "source": [
    "january = pd.read_parquet(r'C:\\Users\\Mudas\\Documents\\school\\Pace\\Deep Learning\\Project 1\\january.parquet', engine = 'fastparquet')\n",
    "\n",
    "january['date'] = january['tpep_pickup_datetime'].apply(lambda i: str(i).split(' ')[0])\n",
    "january['date'] = pd.to_datetime(january['date'])\n",
    "\n",
    "january['length_of_trip'] = january['tpep_dropoff_datetime'] - january['tpep_pickup_datetime']\n",
    "january['length_of_trip_mins'] = january['length_of_trip'].apply(lambda i: str(i).split(':')[1])\n",
    "january['length_of_trip_mins'] = pd.to_numeric(january['length_of_trip_mins'])\n",
    "\n",
    "january = january[january['date'] >= '2020-01-01']\n",
    "january = january[january['date'] <= '2020-01-31']\n",
    "\n",
    "fill_rate = pd.DataFrame(january.isnull().sum()).reset_index().rename(columns = {'index' : 'column' , 0 : 'missing_rate'})\n",
    "fill_rate['missing_rate'] = fill_rate['missing_rate'].apply(lambda i: int(i)/len(january))\n",
    "missing = len(fill_rate[fill_rate['missing_rate'] > 0])\n",
    "fill_rate['missing_rate'] = fill_rate['missing_rate'].apply(lambda i: f'{i:.20f}').apply(lambda i: np.round(float(i),5))\n",
    "\n",
    "january = january.drop('airport_fee', axis= 1)\n",
    "og = len(january)\n",
    "january = january.dropna()\n",
    "diff = len(january)/og\n",
    "print(f\"The original number of records: {og} , new number of records: {len(january)}. We have: {diff} , of the data left\")\n",
    "\n",
    "january.RatecodeID = january.RatecodeID.apply(lambda i: int(i))\n",
    "january = january.drop(['PULocationID' , 'DOLocationID'], axis = 1)\n",
    "\n",
    "climate = pd.read_csv(r'climate.csv')\n",
    "\n",
    "climate = climate.drop(columns = ['prcp', 'snow' , 'wdir' , 'wpgt' , 'tsun'])"
   ]
  },
  {
   "cell_type": "code",
   "execution_count": 3,
   "id": "e7d4bf76",
   "metadata": {},
   "outputs": [],
   "source": [
    "j = january.copy()\n",
    "c = climate.copy()"
   ]
  },
  {
   "cell_type": "code",
   "execution_count": 4,
   "id": "29a6e0d1",
   "metadata": {},
   "outputs": [],
   "source": [
    "listy = c.columns.tolist()\n",
    "listy.remove('date')\n",
    "for n in listy:\n",
    "    c[n] = c[n].fillna(c[n].mean())\n",
    "    c[n] = c[n].apply(lambda i: np.round(float(i),1))\n",
    "    \n",
    "c.date = pd.to_datetime(c.date)\n",
    "df = c.merge(j, on = 'date')\n",
    "df.store_and_fwd_flag = df.store_and_fwd_flag.replace(['N','Y'] , [False, True])"
   ]
  },
  {
   "cell_type": "code",
   "execution_count": 5,
   "id": "9da0093e",
   "metadata": {},
   "outputs": [],
   "source": [
    "from sklearn.neural_network import MLPRegressor\n",
    "import joblib\n",
    "import tqdm\n",
    "\n",
    "ml = df.drop(['tpep_pickup_datetime' , 'tpep_dropoff_datetime', 'date' , 'length_of_trip' , 'tmin', 'tmax'], axis = 1)\n",
    "\n",
    "#ml['length_of_trip_mins'] = ml['length_of_trip_mins'].apply(lambda i: (i - ml['length_of_trip_mins'].min())/(ml['length_of_trip_mins'].max() - ml['length_of_trip_mins'].min()))\n",
    "\n",
    "# X_time = ml.drop('length_of_trip_mins', axis = 1)\n",
    "# y_time = ml['length_of_trip_mins'].values\n",
    "\n",
    "X_train = ml.head(math.floor(len(df)*.80))\n",
    "X_test = ml.tail(len(df) - math.floor(len(df)*.80))\n",
    "y_train = X_train['length_of_trip_mins'].values\n",
    "y_test = X_test['length_of_trip_mins'].values\n",
    "\n",
    "X_train = X_train.drop('length_of_trip_mins', axis = 1)\n",
    "X_test = X_test.drop('length_of_trip_mins', axis = 1)\n",
    "\n",
    "x_train = np.asarray(X_train).astype(np.float32)\n",
    "y_train = np.asarray(y_train).astype(np.float32)\n",
    "x_test = np.asarray(X_test).astype(np.float32)\n",
    "y_test = np.asarray(y_test).astype(np.float32)"
   ]
  },
  {
   "cell_type": "code",
   "execution_count": 6,
   "id": "a24b2eb3",
   "metadata": {},
   "outputs": [
    {
     "data": {
      "text/html": [
       "<div>\n",
       "<style scoped>\n",
       "    .dataframe tbody tr th:only-of-type {\n",
       "        vertical-align: middle;\n",
       "    }\n",
       "\n",
       "    .dataframe tbody tr th {\n",
       "        vertical-align: top;\n",
       "    }\n",
       "\n",
       "    .dataframe thead th {\n",
       "        text-align: right;\n",
       "    }\n",
       "</style>\n",
       "<table border=\"1\" class=\"dataframe\">\n",
       "  <thead>\n",
       "    <tr style=\"text-align: right;\">\n",
       "      <th></th>\n",
       "      <th>tavg</th>\n",
       "      <th>wspd</th>\n",
       "      <th>pres</th>\n",
       "      <th>VendorID</th>\n",
       "      <th>passenger_count</th>\n",
       "      <th>trip_distance</th>\n",
       "      <th>RatecodeID</th>\n",
       "      <th>store_and_fwd_flag</th>\n",
       "      <th>payment_type</th>\n",
       "      <th>fare_amount</th>\n",
       "      <th>extra</th>\n",
       "      <th>mta_tax</th>\n",
       "      <th>tip_amount</th>\n",
       "      <th>tolls_amount</th>\n",
       "      <th>improvement_surcharge</th>\n",
       "      <th>total_amount</th>\n",
       "      <th>congestion_surcharge</th>\n",
       "    </tr>\n",
       "  </thead>\n",
       "  <tbody>\n",
       "    <tr>\n",
       "      <th>0</th>\n",
       "      <td>3.6</td>\n",
       "      <td>17.3</td>\n",
       "      <td>1008.2</td>\n",
       "      <td>1</td>\n",
       "      <td>1.0</td>\n",
       "      <td>1.2</td>\n",
       "      <td>1</td>\n",
       "      <td>False</td>\n",
       "      <td>1</td>\n",
       "      <td>6.0</td>\n",
       "      <td>3.0</td>\n",
       "      <td>0.5</td>\n",
       "      <td>1.47</td>\n",
       "      <td>0.0</td>\n",
       "      <td>0.3</td>\n",
       "      <td>11.27</td>\n",
       "      <td>2.5</td>\n",
       "    </tr>\n",
       "    <tr>\n",
       "      <th>1</th>\n",
       "      <td>3.6</td>\n",
       "      <td>17.3</td>\n",
       "      <td>1008.2</td>\n",
       "      <td>1</td>\n",
       "      <td>1.0</td>\n",
       "      <td>1.2</td>\n",
       "      <td>1</td>\n",
       "      <td>False</td>\n",
       "      <td>1</td>\n",
       "      <td>7.0</td>\n",
       "      <td>3.0</td>\n",
       "      <td>0.5</td>\n",
       "      <td>1.50</td>\n",
       "      <td>0.0</td>\n",
       "      <td>0.3</td>\n",
       "      <td>12.30</td>\n",
       "      <td>2.5</td>\n",
       "    </tr>\n",
       "    <tr>\n",
       "      <th>2</th>\n",
       "      <td>3.6</td>\n",
       "      <td>17.3</td>\n",
       "      <td>1008.2</td>\n",
       "      <td>1</td>\n",
       "      <td>1.0</td>\n",
       "      <td>0.6</td>\n",
       "      <td>1</td>\n",
       "      <td>False</td>\n",
       "      <td>1</td>\n",
       "      <td>6.0</td>\n",
       "      <td>3.0</td>\n",
       "      <td>0.5</td>\n",
       "      <td>1.00</td>\n",
       "      <td>0.0</td>\n",
       "      <td>0.3</td>\n",
       "      <td>10.80</td>\n",
       "      <td>2.5</td>\n",
       "    </tr>\n",
       "    <tr>\n",
       "      <th>3</th>\n",
       "      <td>3.6</td>\n",
       "      <td>17.3</td>\n",
       "      <td>1008.2</td>\n",
       "      <td>1</td>\n",
       "      <td>1.0</td>\n",
       "      <td>0.8</td>\n",
       "      <td>1</td>\n",
       "      <td>False</td>\n",
       "      <td>1</td>\n",
       "      <td>5.5</td>\n",
       "      <td>0.5</td>\n",
       "      <td>0.5</td>\n",
       "      <td>1.36</td>\n",
       "      <td>0.0</td>\n",
       "      <td>0.3</td>\n",
       "      <td>8.16</td>\n",
       "      <td>0.0</td>\n",
       "    </tr>\n",
       "    <tr>\n",
       "      <th>4</th>\n",
       "      <td>3.6</td>\n",
       "      <td>17.3</td>\n",
       "      <td>1008.2</td>\n",
       "      <td>2</td>\n",
       "      <td>1.0</td>\n",
       "      <td>0.0</td>\n",
       "      <td>1</td>\n",
       "      <td>False</td>\n",
       "      <td>2</td>\n",
       "      <td>3.5</td>\n",
       "      <td>0.5</td>\n",
       "      <td>0.5</td>\n",
       "      <td>0.00</td>\n",
       "      <td>0.0</td>\n",
       "      <td>0.3</td>\n",
       "      <td>4.80</td>\n",
       "      <td>0.0</td>\n",
       "    </tr>\n",
       "  </tbody>\n",
       "</table>\n",
       "</div>"
      ],
      "text/plain": [
       "   tavg  wspd    pres  VendorID  passenger_count  trip_distance  RatecodeID  \\\n",
       "0   3.6  17.3  1008.2         1              1.0            1.2           1   \n",
       "1   3.6  17.3  1008.2         1              1.0            1.2           1   \n",
       "2   3.6  17.3  1008.2         1              1.0            0.6           1   \n",
       "3   3.6  17.3  1008.2         1              1.0            0.8           1   \n",
       "4   3.6  17.3  1008.2         2              1.0            0.0           1   \n",
       "\n",
       "   store_and_fwd_flag  payment_type  fare_amount  extra  mta_tax  tip_amount  \\\n",
       "0               False             1          6.0    3.0      0.5        1.47   \n",
       "1               False             1          7.0    3.0      0.5        1.50   \n",
       "2               False             1          6.0    3.0      0.5        1.00   \n",
       "3               False             1          5.5    0.5      0.5        1.36   \n",
       "4               False             2          3.5    0.5      0.5        0.00   \n",
       "\n",
       "   tolls_amount  improvement_surcharge  total_amount  congestion_surcharge  \n",
       "0           0.0                    0.3         11.27                   2.5  \n",
       "1           0.0                    0.3         12.30                   2.5  \n",
       "2           0.0                    0.3         10.80                   2.5  \n",
       "3           0.0                    0.3          8.16                   0.0  \n",
       "4           0.0                    0.3          4.80                   0.0  "
      ]
     },
     "execution_count": 6,
     "metadata": {},
     "output_type": "execute_result"
    }
   ],
   "source": [
    "X_train.head()"
   ]
  },
  {
   "cell_type": "markdown",
   "id": "e162ab5d",
   "metadata": {},
   "source": [
    "# MLP"
   ]
  },
  {
   "cell_type": "code",
   "execution_count": 13,
   "id": "2d932834",
   "metadata": {},
   "outputs": [
    {
     "name": "stdout",
     "output_type": "stream",
     "text": [
      "r squared score: 0.88\n",
      "mean absolute error: 1.2\n",
      "mean squared error: 10.44\n",
      "Wall time: 18min 25s\n"
     ]
    }
   ],
   "source": [
    "%%time\n",
    "from sklearn.metrics import r2_score\n",
    "from sklearn.metrics import mean_absolute_error as mae\n",
    "from sklearn.metrics import mean_squared_error as mse\n",
    "\n",
    "regr = MLPRegressor(random_state = 42)\n",
    "regr.fit(X_train, y_train)\n",
    "#joblib.dump(regr, 'mlp_adam')\n",
    "y_pred = regr.predict(X_test)\n",
    "\n",
    "print('r squared score:',np.round(r2_score(y_test,y_pred),2))\n",
    "print('mean absolute error:', np.round(mae(y_test,y_pred),2))\n",
    "print('mean squared error:',np.round(mse(y_test,y_pred),2))"
   ]
  },
  {
   "cell_type": "markdown",
   "id": "4e364c57",
   "metadata": {},
   "source": [
    "# No Hidden Layers"
   ]
  },
  {
   "cell_type": "code",
   "execution_count": 7,
   "id": "d0ba631f",
   "metadata": {},
   "outputs": [],
   "source": [
    "score = []\n",
    "score_val = []\n",
    "optimizer = []\n",
    "loss = []\n",
    "hl = []"
   ]
  },
  {
   "cell_type": "code",
   "execution_count": 8,
   "id": "667bb281",
   "metadata": {},
   "outputs": [],
   "source": [
    "sgd = tf.keras.Sequential()\n",
    "sgd.add(tf.keras.layers.Dense(1, input_shape = (X_train.shape[1],)))\n",
    "\n",
    "adam = tf.keras.Sequential()\n",
    "adam.add(tf.keras.layers.Dense(1, input_shape = (X_train.shape[1],)))\n",
    "\n",
    "rms = tf.keras.Sequential()\n",
    "rms.add(tf.keras.layers.Dense(1, input_shape = (X_train.shape[1],)))"
   ]
  },
  {
   "cell_type": "markdown",
   "id": "8a5dd7bf",
   "metadata": {},
   "source": [
    "# MSE Loss Function"
   ]
  },
  {
   "cell_type": "code",
   "execution_count": 9,
   "id": "1e4b74d0",
   "metadata": {},
   "outputs": [],
   "source": [
    "lossf = tf.keras.losses.MeanSquaredError()\n",
    "\n",
    "sgd.compile(optimizer=tf.keras.optimizers.SGD(learning_rate=0.001),\n",
    "              loss=lossf)\n",
    "\n",
    "adam.compile(optimizer=tf.keras.optimizers.Adam(learning_rate=0.001),\n",
    "              loss=lossf)\n",
    "\n",
    "rms.compile(optimizer=tf.keras.optimizers.RMSprop(learning_rate=0.001),\n",
    "              loss=lossf)\n",
    "\n",
    "import datetime\n",
    "\n",
    "adam_callback = tf.keras.callbacks.TensorBoard(log_dir=\"logs/adam_mse_no\", histogram_freq=1)\n",
    "sgd_callback = tf.keras.callbacks.TensorBoard(log_dir=\"logs/sgd_mse_no\", histogram_freq=1)\n",
    "rms_callback = tf.keras.callbacks.TensorBoard(log_dir=\"logs/rms_mse_no\", histogram_freq=1)\n",
    "\n",
    "callback = tf.keras.callbacks.EarlyStopping(monitor='loss', patience=3)\n",
    "lr_callback = tf.keras.callbacks.ReduceLROnPlateau(monitor = 'val_loss', factor = 0.05, patience = 3, min_lr = 0.001)\n"
   ]
  },
  {
   "cell_type": "code",
   "execution_count": 10,
   "id": "00b04523",
   "metadata": {},
   "outputs": [
    {
     "name": "stdout",
     "output_type": "stream",
     "text": [
      "Epoch 1/100\n",
      "5072/5072 [==============================] - 4s 631us/step - loss: nan - val_loss: nan - lr: 0.0010\n",
      "Epoch 2/100\n",
      "5072/5072 [==============================] - 3s 602us/step - loss: nan - val_loss: nan - lr: 0.0010\n",
      "Epoch 3/100\n",
      "5072/5072 [==============================] - 3s 606us/step - loss: nan - val_loss: nan - lr: 0.0010\n"
     ]
    }
   ],
   "source": [
    "history_sgd_mse = sgd.fit(x = x_train, y = y_train , epochs = 100, batch_size = 1000, callbacks=[sgd_callback, callback,lr_callback], validation_data = (x_test,y_test))"
   ]
  },
  {
   "cell_type": "code",
   "execution_count": 11,
   "id": "170aec80",
   "metadata": {},
   "outputs": [],
   "source": [
    "score.append(np.round(history_sgd_mse.history['loss'][-1],2))\n",
    "score_val.append(np.round(history_sgd_mse.history['val_loss'][-1],2))\n",
    "optimizer.append('sgd')\n",
    "loss.append('mse')\n",
    "hl.append(0)"
   ]
  },
  {
   "cell_type": "code",
   "execution_count": 12,
   "id": "48015bd2",
   "metadata": {
    "scrolled": true
   },
   "outputs": [
    {
     "name": "stdout",
     "output_type": "stream",
     "text": [
      "Epoch 1/100\n",
      "5072/5072 [==============================] - 4s 632us/step - loss: 71.8082 - val_loss: 38.7904 - lr: 0.0010\n",
      "Epoch 2/100\n",
      "5072/5072 [==============================] - 3s 608us/step - loss: 36.3826 - val_loss: 38.1252 - lr: 0.0010\n",
      "Epoch 3/100\n",
      "5072/5072 [==============================] - 3s 615us/step - loss: 36.0624 - val_loss: 38.3751 - lr: 0.0010\n",
      "Epoch 4/100\n",
      "5072/5072 [==============================] - 3s 608us/step - loss: 35.9690 - val_loss: 38.0081 - lr: 0.0010\n",
      "Epoch 5/100\n",
      "5072/5072 [==============================] - 3s 616us/step - loss: 35.9790 - val_loss: 37.7620 - lr: 0.0010\n",
      "Epoch 6/100\n",
      "5072/5072 [==============================] - 3s 607us/step - loss: 35.9252 - val_loss: 37.8570 - lr: 0.0010\n",
      "Epoch 7/100\n",
      "5072/5072 [==============================] - 3s 611us/step - loss: 35.9306 - val_loss: 37.7025 - lr: 0.0010\n",
      "Epoch 8/100\n",
      "5072/5072 [==============================] - 3s 615us/step - loss: 35.9103 - val_loss: 37.7995 - lr: 0.0010\n",
      "Epoch 9/100\n",
      "5072/5072 [==============================] - 3s 606us/step - loss: 35.8768 - val_loss: 37.6732 - lr: 0.0010\n",
      "Epoch 10/100\n",
      "5072/5072 [==============================] - 3s 625us/step - loss: 35.8583 - val_loss: 37.6341 - lr: 0.0010\n",
      "Epoch 11/100\n",
      "5072/5072 [==============================] - 3s 610us/step - loss: 35.8361 - val_loss: 38.4151 - lr: 0.0010\n",
      "Epoch 12/100\n",
      "5072/5072 [==============================] - 3s 614us/step - loss: 35.8020 - val_loss: 38.3138 - lr: 0.0010\n",
      "Epoch 13/100\n",
      "5072/5072 [==============================] - 3s 613us/step - loss: 35.8205 - val_loss: 37.9429 - lr: 0.0010\n",
      "Epoch 14/100\n",
      "5072/5072 [==============================] - 3s 610us/step - loss: 35.7884 - val_loss: 37.9260 - lr: 0.0010\n",
      "Epoch 15/100\n",
      "5072/5072 [==============================] - 3s 613us/step - loss: 35.7652 - val_loss: 37.8316 - lr: 0.0010\n",
      "Epoch 16/100\n",
      "5072/5072 [==============================] - 3s 617us/step - loss: 35.7564 - val_loss: 37.6077 - lr: 0.0010\n",
      "Epoch 17/100\n",
      "5072/5072 [==============================] - 3s 623us/step - loss: 35.7419 - val_loss: 37.9839 - lr: 0.0010\n",
      "Epoch 18/100\n",
      "5072/5072 [==============================] - 3s 614us/step - loss: 35.6926 - val_loss: 37.7818 - lr: 0.0010\n",
      "Epoch 19/100\n",
      "5072/5072 [==============================] - 3s 608us/step - loss: 35.7346 - val_loss: 37.8997 - lr: 0.0010\n",
      "Epoch 20/100\n",
      "5072/5072 [==============================] - 3s 622us/step - loss: 35.7165 - val_loss: 37.7954 - lr: 0.0010\n",
      "Epoch 21/100\n",
      "5072/5072 [==============================] - 3s 619us/step - loss: 35.7035 - val_loss: 37.7019 - lr: 0.0010\n"
     ]
    }
   ],
   "source": [
    "history_adam_mse = adam.fit(x = x_train, y = y_train , epochs = 100, batch_size = 1000, callbacks=[adam_callback, callback,lr_callback], validation_data = (x_test,y_test))"
   ]
  },
  {
   "cell_type": "code",
   "execution_count": 13,
   "id": "febe10d3",
   "metadata": {},
   "outputs": [
    {
     "data": {
      "image/png": "[encoded data removed]",
      "text/plain": [
       "<Figure size 640x480 with 1 Axes>"
      ]
     },
     "metadata": {},
     "output_type": "display_data"
    }
   ],
   "source": [
    "training_loss_adam = history_adam_mse.history['loss']\n",
    "test_loss_adam = history_adam_mse.history['val_loss']\n",
    "\n",
    "epoch_count_adam = range(1, len(training_loss_adam) + 1)\n",
    "\n",
    "#Visualize loss history\n",
    "\n",
    "plt.plot(epoch_count_adam, training_loss_adam)\n",
    "plt.plot(epoch_count_adam, test_loss_adam)\n",
    "\n",
    "plt.legend(['Training Loss Adam', 'Test Loss Adam'])\n",
    "plt.xlabel('Epoch')\n",
    "plt.ylabel('Loss')\n",
    "plt.show();"
   ]
  },
  {
   "cell_type": "code",
   "execution_count": 14,
   "id": "55427c88",
   "metadata": {},
   "outputs": [
    {
     "data": {
      "text/plain": [
       "Reusing TensorBoard on port 6006 (pid 22280), started 0:03:39 ago. (Use '!kill 22280' to kill it.)"
      ]
     },
     "metadata": {},
     "output_type": "display_data"
    },
    {
     "data": {
      "text/html": [
       "\n",
       "      <iframe id=\"tensorboard-frame-df57390bf5e81ea1\" width=\"100%\" height=\"800\" frameborder=\"0\">\n",
       "      </iframe>\n",
       "      <script>\n",
       "        (function() {\n",
       "          const frame = document.getElementById(\"tensorboard-frame-df57390bf5e81ea1\");\n",
       "          const url = new URL(\"/\", window.location);\n",
       "          const port = 6006;\n",
       "          if (port) {\n",
       "            url.port = port;\n",
       "          }\n",
       "          frame.src = url;\n",
       "        })();\n",
       "      </script>\n",
       "    "
      ],
      "text/plain": [
       "<IPython.core.display.HTML object>"
      ]
     },
     "metadata": {},
     "output_type": "display_data"
    }
   ],
   "source": [
    "%reload_ext tensorboard\n",
    "%tensorboard --logdir logs/fit"
   ]
  },
  {
   "cell_type": "code",
   "execution_count": 15,
   "id": "b298feef",
   "metadata": {},
   "outputs": [],
   "source": [
    "score.append(np.round(history_adam_mse.history['loss'][-1],2))\n",
    "score_val.append(np.round(history_adam_mse.history['val_loss'][-1],2))\n",
    "optimizer.append('adam')\n",
    "loss.append('mse')\n",
    "hl.append(0)"
   ]
  },
  {
   "cell_type": "code",
   "execution_count": 16,
   "id": "bf6da321",
   "metadata": {},
   "outputs": [
    {
     "name": "stdout",
     "output_type": "stream",
     "text": [
      "Epoch 1/100\n",
      "5072/5072 [==============================] - 4s 638us/step - loss: 50.9628 - val_loss: 39.0264 - lr: 0.0010\n",
      "Epoch 2/100\n",
      "5072/5072 [==============================] - 3s 622us/step - loss: 36.5566 - val_loss: 37.8865 - lr: 0.0010\n",
      "Epoch 3/100\n",
      "5072/5072 [==============================] - 3s 609us/step - loss: 36.6761 - val_loss: 38.2963 - lr: 0.0010\n",
      "Epoch 4/100\n",
      "5072/5072 [==============================] - 3s 610us/step - loss: 36.8454 - val_loss: 40.6445 - lr: 0.0010\n",
      "Epoch 5/100\n",
      "5072/5072 [==============================] - 3s 600us/step - loss: 36.9526 - val_loss: 38.3843 - lr: 0.0010\n"
     ]
    }
   ],
   "source": [
    "history_rms_mse = rms.fit(x = x_train, y = y_train , epochs = 100, batch_size = 1000, callbacks=[rms_callback, callback,lr_callback], validation_data = (x_test,y_test))"
   ]
  },
  {
   "cell_type": "code",
   "execution_count": 17,
   "id": "d437f4ea",
   "metadata": {},
   "outputs": [
    {
     "data": {
      "image/png": "[encoded data removed]",
      "text/plain": [
       "<Figure size 640x480 with 1 Axes>"
      ]
     },
     "metadata": {},
     "output_type": "display_data"
    }
   ],
   "source": [
    "training_loss_rms = history_rms_mse.history['loss']\n",
    "test_loss_rms = history_rms_mse.history['val_loss']\n",
    "\n",
    "epoch_count_rms = range(1, len(training_loss_rms) + 1)\n",
    "\n",
    "#Visualize loss history\n",
    "\n",
    "plt.plot(epoch_count_rms, training_loss_rms)\n",
    "plt.plot(epoch_count_rms, test_loss_rms)\n",
    "\n",
    "plt.legend(['Training Loss rms', 'Test Loss rms'])\n",
    "plt.xlabel('Epoch')\n",
    "plt.ylabel('Loss')\n",
    "plt.show();"
   ]
  },
  {
   "cell_type": "code",
   "execution_count": 18,
   "id": "f3571d18",
   "metadata": {},
   "outputs": [],
   "source": [
    "score.append(np.round(history_rms_mse.history['loss'][-1],2))\n",
    "score_val.append(np.round(history_rms_mse.history['val_loss'][-1],2))\n",
    "optimizer.append('rms')\n",
    "loss.append('mse')\n",
    "hl.append(0)"
   ]
  },
  {
   "cell_type": "code",
   "execution_count": 19,
   "id": "ebe34fcf",
   "metadata": {},
   "outputs": [
    {
     "data": {
      "text/plain": [
       "Reusing TensorBoard on port 6006 (pid 23064), started 0:03:35 ago. (Use '!kill 23064' to kill it.)"
      ]
     },
     "metadata": {},
     "output_type": "display_data"
    },
    {
     "data": {
      "text/html": [
       "\n",
       "      <iframe id=\"tensorboard-frame-1729e063f1a09276\" width=\"100%\" height=\"800\" frameborder=\"0\">\n",
       "      </iframe>\n",
       "      <script>\n",
       "        (function() {\n",
       "          const frame = document.getElementById(\"tensorboard-frame-1729e063f1a09276\");\n",
       "          const url = new URL(\"/\", window.location);\n",
       "          const port = 6006;\n",
       "          if (port) {\n",
       "            url.port = port;\n",
       "          }\n",
       "          frame.src = url;\n",
       "        })();\n",
       "      </script>\n",
       "    "
      ],
      "text/plain": [
       "<IPython.core.display.HTML object>"
      ]
     },
     "metadata": {},
     "output_type": "display_data"
    }
   ],
   "source": [
    "%reload_ext tensorboard\n",
    "%tensorboard --logdir ./logs"
   ]
  },
  {
   "cell_type": "markdown",
   "id": "17d91726",
   "metadata": {},
   "source": [
    "# MAE Loss Function"
   ]
  },
  {
   "cell_type": "code",
   "execution_count": 20,
   "id": "94762087",
   "metadata": {},
   "outputs": [],
   "source": [
    "sgd = tf.keras.Sequential()\n",
    "sgd.add(tf.keras.layers.Dense(1, input_shape = (X_train.shape[1],) , activation = 'relu'))\n",
    "\n",
    "adam = tf.keras.Sequential()\n",
    "adam.add(tf.keras.layers.Dense(1, input_shape = (X_train.shape[1],),activation = 'relu'))\n",
    "\n",
    "rms = tf.keras.Sequential()\n",
    "rms.add(tf.keras.layers.Dense(1, input_shape = (X_train.shape[1],), activation = 'relu'))\n",
    "\n",
    "\n",
    "lossf = tf.keras.losses.MeanAbsoluteError()\n",
    "\n",
    "sgd.compile(optimizer=tf.keras.optimizers.SGD(learning_rate=0.001),\n",
    "              loss=lossf)\n",
    "\n",
    "adam.compile(optimizer=tf.keras.optimizers.Adam(learning_rate=0.001),\n",
    "              loss=lossf)\n",
    "\n",
    "rms.compile(optimizer=tf.keras.optimizers.RMSprop(learning_rate=0.001),\n",
    "              loss=lossf)\n",
    "\n",
    "import datetime\n",
    "\n",
    "adam_callback = tf.keras.callbacks.TensorBoard(log_dir=\"logs/adam_mae_no\", histogram_freq=1)\n",
    "sgd_callback = tf.keras.callbacks.TensorBoard(log_dir=\"logs/sgd_mae_no\", histogram_freq=1)\n",
    "rms_callback = tf.keras.callbacks.TensorBoard(log_dir=\"logs/rms_mae_no\", histogram_freq=1)\n",
    "\n",
    "callback = tf.keras.callbacks.EarlyStopping(monitor='loss', patience=3, min_delta = 0.01)\n",
    "lr_callback = tf.keras.callbacks.ReduceLROnPlateau(monitor = 'val_loss', factor = 0.05, patience = 3, min_lr = 0.001)\n"
   ]
  },
  {
   "cell_type": "code",
   "execution_count": 21,
   "id": "9715b2ae",
   "metadata": {},
   "outputs": [
    {
     "name": "stdout",
     "output_type": "stream",
     "text": [
      "Epoch 1/100\n",
      "5072/5072 [==============================] - 4s 620us/step - loss: 12.1981 - val_loss: 12.6702 - lr: 0.0010\n",
      "Epoch 2/100\n",
      "5072/5072 [==============================] - 3s 610us/step - loss: 12.1980 - val_loss: 12.6701 - lr: 0.0010\n",
      "Epoch 3/100\n",
      "5072/5072 [==============================] - 3s 618us/step - loss: 12.1979 - val_loss: 12.6700 - lr: 0.0010\n",
      "Epoch 4/100\n",
      "5072/5072 [==============================] - 3s 602us/step - loss: 12.1979 - val_loss: 12.6700 - lr: 0.0010\n"
     ]
    }
   ],
   "source": [
    "history_sgd_mae = sgd.fit(x = x_train, y = y_train , epochs = 100, batch_size = 1000, callbacks=[sgd_callback, callback,lr_callback], validation_data = (x_test,y_test))"
   ]
  },
  {
   "cell_type": "code",
   "execution_count": 22,
   "id": "02a5413a",
   "metadata": {},
   "outputs": [
    {
     "data": {
      "image/png": "[encoded data removed]",
      "text/plain": [
       "<Figure size 640x480 with 1 Axes>"
      ]
     },
     "metadata": {},
     "output_type": "display_data"
    }
   ],
   "source": [
    "training_loss_sgd = history_sgd_mae.history['loss']\n",
    "test_loss_sgd = history_sgd_mae.history['val_loss']\n",
    "\n",
    "epoch_count_sgd = range(1, len(training_loss_sgd) + 1)\n",
    "\n",
    "#Visualize loss history\n",
    "\n",
    "plt.plot(epoch_count_sgd, training_loss_sgd)\n",
    "plt.plot(epoch_count_sgd, test_loss_sgd)\n",
    "\n",
    "plt.legend(['Training Loss sgd', 'Test Loss sgd'])\n",
    "plt.xlabel('Epoch')\n",
    "plt.ylabel('Loss')\n",
    "plt.show();"
   ]
  },
  {
   "cell_type": "code",
   "execution_count": 23,
   "id": "0bfa2d51",
   "metadata": {},
   "outputs": [],
   "source": [
    "score.append(np.round(history_sgd_mae.history['loss'][-1],2))\n",
    "score_val.append(np.round(history_sgd_mae.history['val_loss'][-1],2))\n",
    "optimizer.append('sgd')\n",
    "loss.append('mae')\n",
    "hl.append(0)"
   ]
  },
  {
   "cell_type": "code",
   "execution_count": 24,
   "id": "c529e03c",
   "metadata": {},
   "outputs": [
    {
     "data": {
      "text/plain": [
       "Reusing TensorBoard on port 6006 (pid 23064), started 0:03:48 ago. (Use '!kill 23064' to kill it.)"
      ]
     },
     "metadata": {},
     "output_type": "display_data"
    },
    {
     "data": {
      "text/html": [
       "\n",
       "      <iframe id=\"tensorboard-frame-8288dfaac18cd86e\" width=\"100%\" height=\"800\" frameborder=\"0\">\n",
       "      </iframe>\n",
       "      <script>\n",
       "        (function() {\n",
       "          const frame = document.getElementById(\"tensorboard-frame-8288dfaac18cd86e\");\n",
       "          const url = new URL(\"/\", window.location);\n",
       "          const port = 6006;\n",
       "          if (port) {\n",
       "            url.port = port;\n",
       "          }\n",
       "          frame.src = url;\n",
       "        })();\n",
       "      </script>\n",
       "    "
      ],
      "text/plain": [
       "<IPython.core.display.HTML object>"
      ]
     },
     "metadata": {},
     "output_type": "display_data"
    }
   ],
   "source": [
    "%reload_ext tensorboard\n",
    "%tensorboard --logdir ./logs"
   ]
  },
  {
   "cell_type": "code",
   "execution_count": 25,
   "id": "6fee6aa1",
   "metadata": {
    "scrolled": true
   },
   "outputs": [
    {
     "name": "stdout",
     "output_type": "stream",
     "text": [
      "Epoch 1/100\n",
      "5072/5072 [==============================] - 4s 631us/step - loss: 12.1977 - val_loss: 12.6693 - lr: 0.0010\n",
      "Epoch 2/100\n",
      "5072/5072 [==============================] - 3s 620us/step - loss: 12.1976 - val_loss: 12.6693 - lr: 0.0010\n",
      "Epoch 3/100\n",
      "5072/5072 [==============================] - 3s 624us/step - loss: 12.1976 - val_loss: 12.6693 - lr: 0.0010\n",
      "Epoch 4/100\n",
      "5072/5072 [==============================] - 3s 634us/step - loss: 12.1976 - val_loss: 12.6693 - lr: 0.0010\n"
     ]
    }
   ],
   "source": [
    "history_adam_mae = adam.fit(x = x_train, y = y_train , epochs = 100, batch_size = 1000, callbacks=[adam_callback, callback,lr_callback], validation_data = (x_test,y_test))"
   ]
  },
  {
   "cell_type": "code",
   "execution_count": 26,
   "id": "c32e04a6",
   "metadata": {},
   "outputs": [
    {
     "data": {
      "image/png": "[encoded data removed]",
      "text/plain": [
       "<Figure size 640x480 with 1 Axes>"
      ]
     },
     "metadata": {},
     "output_type": "display_data"
    }
   ],
   "source": [
    "training_loss_adam = history_adam_mae.history['loss']\n",
    "test_loss_adam = history_adam_mae.history['val_loss']\n",
    "\n",
    "epoch_count_adam = range(1, len(training_loss_adam) + 1)\n",
    "\n",
    "#Visualize loss history\n",
    "\n",
    "plt.plot(epoch_count_adam, training_loss_adam)\n",
    "plt.plot(epoch_count_adam, test_loss_adam)\n",
    "\n",
    "plt.legend(['Training Loss adam', 'Test Loss adam'])\n",
    "plt.xlabel('Epoch')\n",
    "plt.ylabel('Loss')\n",
    "plt.show();"
   ]
  },
  {
   "cell_type": "code",
   "execution_count": 27,
   "id": "ba049893",
   "metadata": {},
   "outputs": [],
   "source": [
    "score.append(np.round(history_adam_mae.history['loss'][-1],2))\n",
    "score_val.append(np.round(history_adam_mae.history['val_loss'][-1],2))\n",
    "optimizer.append('adam')\n",
    "loss.append('mae')\n",
    "hl.append(0)"
   ]
  },
  {
   "cell_type": "code",
   "execution_count": 28,
   "id": "c7016a7c",
   "metadata": {
    "scrolled": true
   },
   "outputs": [
    {
     "name": "stdout",
     "output_type": "stream",
     "text": [
      "Epoch 1/100\n",
      "5072/5072 [==============================] - 4s 647us/step - loss: 14.3988 - val_loss: 2.8841 - lr: 0.0010\n",
      "Epoch 2/100\n",
      "5072/5072 [==============================] - 3s 629us/step - loss: 2.7560 - val_loss: 2.5548 - lr: 0.0010\n",
      "Epoch 3/100\n",
      "5072/5072 [==============================] - 3s 639us/step - loss: 2.6452 - val_loss: 2.5999 - lr: 0.0010\n",
      "Epoch 4/100\n",
      "5072/5072 [==============================] - 3s 646us/step - loss: 2.6010 - val_loss: 2.5152 - lr: 0.0010\n",
      "Epoch 5/100\n",
      "5072/5072 [==============================] - 3s 637us/step - loss: 2.5761 - val_loss: 2.5665 - lr: 0.0010\n",
      "Epoch 6/100\n",
      "5072/5072 [==============================] - 3s 615us/step - loss: 2.5579 - val_loss: 2.6743 - lr: 0.0010\n",
      "Epoch 7/100\n",
      "5072/5072 [==============================] - 3s 617us/step - loss: 2.5412 - val_loss: 2.4478 - lr: 0.0010\n",
      "Epoch 8/100\n",
      "5072/5072 [==============================] - 3s 616us/step - loss: 2.5268 - val_loss: 2.5580 - lr: 0.0010\n",
      "Epoch 9/100\n",
      "5072/5072 [==============================] - 3s 613us/step - loss: 2.5123 - val_loss: 2.3398 - lr: 0.0010\n",
      "Epoch 10/100\n",
      "5072/5072 [==============================] - 3s 612us/step - loss: 2.4994 - val_loss: 2.3953 - lr: 0.0010\n",
      "Epoch 11/100\n",
      "5072/5072 [==============================] - 3s 607us/step - loss: 2.4869 - val_loss: 2.3861 - lr: 0.0010\n",
      "Epoch 12/100\n",
      "5072/5072 [==============================] - 3s 614us/step - loss: 2.4745 - val_loss: 2.3987 - lr: 0.0010\n",
      "Epoch 13/100\n",
      "5072/5072 [==============================] - 3s 618us/step - loss: 2.4636 - val_loss: 2.4229 - lr: 0.0010\n",
      "Epoch 14/100\n",
      "5072/5072 [==============================] - 3s 624us/step - loss: 2.4524 - val_loss: 2.4634 - lr: 0.0010\n",
      "Epoch 15/100\n",
      "5072/5072 [==============================] - 3s 627us/step - loss: 2.4419 - val_loss: 2.3580 - lr: 0.0010\n",
      "Epoch 16/100\n",
      "5072/5072 [==============================] - 3s 623us/step - loss: 2.4319 - val_loss: 2.3177 - lr: 0.0010\n",
      "Epoch 17/100\n",
      "5072/5072 [==============================] - 3s 617us/step - loss: 2.4221 - val_loss: 2.3833 - lr: 0.0010\n",
      "Epoch 18/100\n",
      "5072/5072 [==============================] - 3s 627us/step - loss: 2.4135 - val_loss: 2.3231 - lr: 0.0010\n",
      "Epoch 19/100\n",
      "5072/5072 [==============================] - 3s 618us/step - loss: 2.4043 - val_loss: 2.2855 - lr: 0.0010\n",
      "Epoch 20/100\n",
      "5072/5072 [==============================] - 3s 616us/step - loss: 2.3961 - val_loss: 2.3210 - lr: 0.0010\n",
      "Epoch 21/100\n",
      "5072/5072 [==============================] - 3s 620us/step - loss: 2.3881 - val_loss: 2.3318 - lr: 0.0010\n",
      "Epoch 22/100\n",
      "5072/5072 [==============================] - 3s 624us/step - loss: 2.3804 - val_loss: 2.2658 - lr: 0.0010\n",
      "Epoch 23/100\n",
      "5072/5072 [==============================] - 3s 619us/step - loss: 2.3734 - val_loss: 2.2450 - lr: 0.0010\n",
      "Epoch 24/100\n",
      "5072/5072 [==============================] - 3s 641us/step - loss: 2.3663 - val_loss: 2.3226 - lr: 0.0010\n",
      "Epoch 25/100\n",
      "5072/5072 [==============================] - 3s 625us/step - loss: 2.3603 - val_loss: 2.3216 - lr: 0.0010\n",
      "Epoch 26/100\n",
      "5072/5072 [==============================] - 3s 614us/step - loss: 2.3535 - val_loss: 2.2287 - lr: 0.0010\n",
      "Epoch 27/100\n",
      "5072/5072 [==============================] - 3s 616us/step - loss: 2.3475 - val_loss: 2.3337 - lr: 0.0010\n",
      "Epoch 28/100\n",
      "5072/5072 [==============================] - 3s 626us/step - loss: 2.3416 - val_loss: 2.2173 - lr: 0.0010\n",
      "Epoch 29/100\n",
      "5072/5072 [==============================] - 3s 618us/step - loss: 2.3362 - val_loss: 2.2188 - lr: 0.0010\n",
      "Epoch 30/100\n",
      "5072/5072 [==============================] - 3s 618us/step - loss: 2.3312 - val_loss: 2.2533 - lr: 0.0010\n",
      "Epoch 31/100\n",
      "5072/5072 [==============================] - 3s 615us/step - loss: 2.3257 - val_loss: 2.2438 - lr: 0.0010\n",
      "Epoch 32/100\n",
      "5072/5072 [==============================] - 3s 620us/step - loss: 2.3213 - val_loss: 2.2052 - lr: 0.0010\n",
      "Epoch 33/100\n",
      "5072/5072 [==============================] - 3s 622us/step - loss: 2.3161 - val_loss: 2.2149 - lr: 0.0010\n",
      "Epoch 34/100\n",
      "5072/5072 [==============================] - 3s 606us/step - loss: 2.3114 - val_loss: 2.2241 - lr: 0.0010\n",
      "Epoch 35/100\n",
      "5072/5072 [==============================] - 3s 614us/step - loss: 2.3076 - val_loss: 2.2501 - lr: 0.0010\n",
      "Epoch 36/100\n",
      "5072/5072 [==============================] - 3s 618us/step - loss: 2.3034 - val_loss: 2.2602 - lr: 0.0010\n",
      "Epoch 37/100\n",
      "5072/5072 [==============================] - 3s 606us/step - loss: 2.2995 - val_loss: 2.2105 - lr: 0.0010\n",
      "Epoch 38/100\n",
      "5072/5072 [==============================] - 3s 606us/step - loss: 2.2954 - val_loss: 2.2456 - lr: 0.0010\n",
      "Epoch 39/100\n",
      "5072/5072 [==============================] - 3s 602us/step - loss: 2.2924 - val_loss: 2.2376 - lr: 0.0010\n",
      "Epoch 40/100\n",
      "5072/5072 [==============================] - 3s 603us/step - loss: 2.2887 - val_loss: 2.2849 - lr: 0.0010\n",
      "Epoch 41/100\n",
      "5072/5072 [==============================] - 3s 620us/step - loss: 2.2852 - val_loss: 2.1487 - lr: 0.0010\n",
      "Epoch 42/100\n",
      "5072/5072 [==============================] - 3s 635us/step - loss: 2.2825 - val_loss: 2.2155 - lr: 0.0010\n",
      "Epoch 43/100\n",
      "5072/5072 [==============================] - 3s 613us/step - loss: 2.2794 - val_loss: 2.1967 - lr: 0.0010\n"
     ]
    }
   ],
   "source": [
    "history_rms_mae = rms.fit(x = x_train, y = y_train , epochs = 100, batch_size = 1000, callbacks=[rms_callback, callback,lr_callback], validation_data = (x_test,y_test))"
   ]
  },
  {
   "cell_type": "code",
   "execution_count": 29,
   "id": "f92222aa",
   "metadata": {},
   "outputs": [
    {
     "data": {
      "image/png": "[encoded data removed]",
      "text/plain": [
       "<Figure size 640x480 with 1 Axes>"
      ]
     },
     "metadata": {},
     "output_type": "display_data"
    }
   ],
   "source": [
    "training_loss_rms = history_rms_mae.history['loss']\n",
    "test_loss_rms = history_rms_mae.history['val_loss']\n",
    "\n",
    "epoch_count_rms = range(1, len(training_loss_rms) + 1)\n",
    "\n",
    "#Visualize loss history\n",
    "\n",
    "plt.plot(epoch_count_rms, training_loss_rms)\n",
    "plt.plot(epoch_count_rms, test_loss_rms)\n",
    "\n",
    "plt.legend(['Training Loss rms', 'Test Loss rms'])\n",
    "plt.xlabel('Epoch')\n",
    "plt.ylabel('Loss')\n",
    "plt.show();"
   ]
  },
  {
   "cell_type": "code",
   "execution_count": 30,
   "id": "7f8a6801",
   "metadata": {},
   "outputs": [
    {
     "data": {
      "text/plain": [
       "Reusing TensorBoard on port 6006 (pid 23064), started 0:06:18 ago. (Use '!kill 23064' to kill it.)"
      ]
     },
     "metadata": {},
     "output_type": "display_data"
    },
    {
     "data": {
      "text/html": [
       "\n",
       "      <iframe id=\"tensorboard-frame-cb5163c9f44842c5\" width=\"100%\" height=\"800\" frameborder=\"0\">\n",
       "      </iframe>\n",
       "      <script>\n",
       "        (function() {\n",
       "          const frame = document.getElementById(\"tensorboard-frame-cb5163c9f44842c5\");\n",
       "          const url = new URL(\"/\", window.location);\n",
       "          const port = 6006;\n",
       "          if (port) {\n",
       "            url.port = port;\n",
       "          }\n",
       "          frame.src = url;\n",
       "        })();\n",
       "      </script>\n",
       "    "
      ],
      "text/plain": [
       "<IPython.core.display.HTML object>"
      ]
     },
     "metadata": {},
     "output_type": "display_data"
    }
   ],
   "source": [
    "%reload_ext tensorboard\n",
    "%tensorboard --logdir ./logs"
   ]
  },
  {
   "cell_type": "code",
   "execution_count": 31,
   "id": "d97756cf",
   "metadata": {},
   "outputs": [],
   "source": [
    "score.append(np.round(history_rms_mae.history['loss'][-1],2))\n",
    "score_val.append(np.round(history_rms_mae.history['val_loss'][-1],2))\n",
    "optimizer.append('rms')\n",
    "loss.append('mae')\n",
    "hl.append(0)"
   ]
  },
  {
   "cell_type": "markdown",
   "id": "c9338fb6",
   "metadata": {},
   "source": [
    "# Deep Neural Network"
   ]
  },
  {
   "cell_type": "markdown",
   "id": "cd611978",
   "metadata": {},
   "source": [
    "# Mean Squared Error Loss"
   ]
  },
  {
   "cell_type": "code",
   "execution_count": 32,
   "id": "faa5f4cf",
   "metadata": {},
   "outputs": [],
   "source": [
    "input_layer = tf.keras.layers.Input(shape = (X_train.shape[1]), name = 'input_layer')\n",
    "h1 = tf.keras.layers.Dense(100, activation = 'relu' , name = 'hidden_layer1')(input_layer)\n",
    "h2 = tf.keras.layers.Dense(100, activation = 'sigmoid' , name = 'hidden_layer2')(h1)\n",
    "output_layer = tf.keras.layers.Dense(1, name = 'output_layer')(h2)\n",
    "\n",
    "lossf = tf.keras.losses.MeanSquaredError()\n",
    "\n",
    "sgd = tf.keras.Model(inputs = (input_layer) , outputs = (output_layer))\n",
    "adam = tf.keras.Model(inputs = (input_layer) , outputs = (output_layer))\n",
    "rms = tf.keras.Model(inputs = (input_layer) , outputs = (output_layer))\n",
    "\n",
    "sgd.compile(optimizer=tf.keras.optimizers.SGD(learning_rate=0.001),\n",
    "              loss=lossf)\n",
    "\n",
    "adam.compile(optimizer=tf.keras.optimizers.Adam(learning_rate=0.001),\n",
    "              loss=lossf)\n",
    "\n",
    "rms.compile(optimizer=tf.keras.optimizers.RMSprop(learning_rate=0.001),\n",
    "              loss=lossf)\n",
    "\n",
    "import datetime\n",
    "\n",
    "adam_callback = tf.keras.callbacks.TensorBoard(log_dir=\"logs/adam_mse_hl\", histogram_freq=1)\n",
    "sgd_callback = tf.keras.callbacks.TensorBoard(log_dir=\"logs/sgd_mse_hl\", histogram_freq=1)\n",
    "rms_callback = tf.keras.callbacks.TensorBoard(log_dir=\"logs/rms_mse_hl\", histogram_freq=1)\n",
    "\n",
    "callback = tf.keras.callbacks.EarlyStopping(monitor='loss', patience=3, min_delta = 0.01)\n",
    "lr_callback = tf.keras.callbacks.ReduceLROnPlateau(monitor = 'val_loss', factor = 0.05, patience = 3, min_lr = 0.001)\n"
   ]
  },
  {
   "cell_type": "code",
   "execution_count": 33,
   "id": "00427a32",
   "metadata": {
    "scrolled": true
   },
   "outputs": [
    {
     "name": "stdout",
     "output_type": "stream",
     "text": [
      "Epoch 1/100\n",
      "5072/5072 [==============================] - 7s 1ms/step - loss: 85.4714 - val_loss: 89.5641 - lr: 0.0010\n",
      "Epoch 2/100\n",
      "5072/5072 [==============================] - 6s 1ms/step - loss: 85.3568 - val_loss: 89.5254 - lr: 0.0010\n",
      "Epoch 3/100\n",
      "5072/5072 [==============================] - 6s 1ms/step - loss: 85.3566 - val_loss: 89.7569 - lr: 0.0010\n",
      "Epoch 4/100\n",
      "5072/5072 [==============================] - 6s 1ms/step - loss: 85.3563 - val_loss: 89.7535 - lr: 0.0010\n",
      "Epoch 5/100\n",
      "5072/5072 [==============================] - 6s 1ms/step - loss: 85.3559 - val_loss: 89.5039 - lr: 0.0010\n"
     ]
    }
   ],
   "source": [
    "history_sgd_mse = sgd.fit(x = x_train, y = y_train , epochs = 100, batch_size = 1000, callbacks=[sgd_callback, callback,lr_callback], validation_data = (x_test,y_test))"
   ]
  },
  {
   "cell_type": "code",
   "execution_count": 34,
   "id": "95ee29e3",
   "metadata": {},
   "outputs": [
    {
     "data": {
      "image/png": "[encoded data removed]",
      "text/plain": [
       "<Figure size 640x480 with 1 Axes>"
      ]
     },
     "metadata": {},
     "output_type": "display_data"
    }
   ],
   "source": [
    "training_loss_sgd = history_sgd_mse.history['loss']\n",
    "test_loss_sgd = history_sgd_mse.history['val_loss']\n",
    "\n",
    "epoch_count_sgd = range(1, len(training_loss_sgd) + 1)\n",
    "\n",
    "#Visualize loss history\n",
    "\n",
    "plt.plot(epoch_count_sgd, training_loss_sgd)\n",
    "plt.plot(epoch_count_sgd, test_loss_sgd)\n",
    "\n",
    "plt.legend(['Training Loss sgd', 'Test Loss sgd'])\n",
    "plt.xlabel('Epoch')\n",
    "plt.ylabel('Loss')\n",
    "plt.show();"
   ]
  },
  {
   "cell_type": "code",
   "execution_count": 35,
   "id": "8962b8f1",
   "metadata": {},
   "outputs": [
    {
     "data": {
      "text/plain": [
       "Reusing TensorBoard on port 6006 (pid 23064), started 0:06:50 ago. (Use '!kill 23064' to kill it.)"
      ]
     },
     "metadata": {},
     "output_type": "display_data"
    },
    {
     "data": {
      "text/html": [
       "\n",
       "      <iframe id=\"tensorboard-frame-4f247492d6e042e1\" width=\"100%\" height=\"800\" frameborder=\"0\">\n",
       "      </iframe>\n",
       "      <script>\n",
       "        (function() {\n",
       "          const frame = document.getElementById(\"tensorboard-frame-4f247492d6e042e1\");\n",
       "          const url = new URL(\"/\", window.location);\n",
       "          const port = 6006;\n",
       "          if (port) {\n",
       "            url.port = port;\n",
       "          }\n",
       "          frame.src = url;\n",
       "        })();\n",
       "      </script>\n",
       "    "
      ],
      "text/plain": [
       "<IPython.core.display.HTML object>"
      ]
     },
     "metadata": {},
     "output_type": "display_data"
    }
   ],
   "source": [
    "%reload_ext tensorboard\n",
    "%tensorboard --logdir ./logs"
   ]
  },
  {
   "cell_type": "code",
   "execution_count": 36,
   "id": "716ba98a",
   "metadata": {},
   "outputs": [],
   "source": [
    "score.append(np.round(history_sgd_mse.history['loss'][-1],2))\n",
    "score_val.append(np.round(history_sgd_mse.history['val_loss'][-1],2))\n",
    "optimizer.append('sgd')\n",
    "loss.append('mse')\n",
    "hl.append(2)"
   ]
  },
  {
   "cell_type": "code",
   "execution_count": 37,
   "id": "2679dbe9",
   "metadata": {
    "scrolled": true
   },
   "outputs": [
    {
     "name": "stdout",
     "output_type": "stream",
     "text": [
      "Epoch 1/100\n",
      "5072/5072 [==============================] - 7s 1ms/step - loss: 34.1674 - val_loss: 19.6049 - lr: 0.0010\n",
      "Epoch 2/100\n",
      "5072/5072 [==============================] - 6s 1ms/step - loss: 15.8129 - val_loss: 13.7246 - lr: 0.0010\n",
      "Epoch 3/100\n",
      "5072/5072 [==============================] - 6s 1ms/step - loss: 12.7972 - val_loss: 12.3307 - lr: 0.0010\n",
      "Epoch 4/100\n",
      "5072/5072 [==============================] - 7s 1ms/step - loss: 11.7337 - val_loss: 14.2804 - lr: 0.0010\n",
      "Epoch 5/100\n",
      "5072/5072 [==============================] - 6s 1ms/step - loss: 11.2734 - val_loss: 11.3367 - lr: 0.0010\n",
      "Epoch 6/100\n",
      "5072/5072 [==============================] - 7s 1ms/step - loss: 10.8922 - val_loss: 10.9404 - lr: 0.0010\n",
      "Epoch 7/100\n",
      "5072/5072 [==============================] - 7s 1ms/step - loss: 10.7070 - val_loss: 10.7880 - lr: 0.0010\n",
      "Epoch 8/100\n",
      "5072/5072 [==============================] - 6s 1ms/step - loss: 10.5654 - val_loss: 11.6245 - lr: 0.0010\n",
      "Epoch 9/100\n",
      "5072/5072 [==============================] - 7s 1ms/step - loss: 10.4267 - val_loss: 10.6088 - lr: 0.0010\n",
      "Epoch 10/100\n",
      "5072/5072 [==============================] - 6s 1ms/step - loss: 10.3339 - val_loss: 10.2459 - lr: 0.0010\n",
      "Epoch 11/100\n",
      "5072/5072 [==============================] - 6s 1ms/step - loss: 10.2436 - val_loss: 10.5038 - lr: 0.0010\n",
      "Epoch 12/100\n",
      "5072/5072 [==============================] - 6s 1ms/step - loss: 10.1562 - val_loss: 10.2445 - lr: 0.0010\n",
      "Epoch 13/100\n",
      "5072/5072 [==============================] - 7s 1ms/step - loss: 10.1057 - val_loss: 10.0621 - lr: 0.0010\n",
      "Epoch 14/100\n",
      "5072/5072 [==============================] - 7s 1ms/step - loss: 10.0404 - val_loss: 9.9792 - lr: 0.0010\n",
      "Epoch 15/100\n",
      "5072/5072 [==============================] - 7s 1ms/step - loss: 9.9789 - val_loss: 9.9905 - lr: 0.0010\n",
      "Epoch 16/100\n",
      "5072/5072 [==============================] - 7s 1ms/step - loss: 9.9254 - val_loss: 10.0394 - lr: 0.0010\n",
      "Epoch 17/100\n",
      "5072/5072 [==============================] - 7s 1ms/step - loss: 9.8749 - val_loss: 10.0138 - lr: 0.0010\n",
      "Epoch 18/100\n",
      "5072/5072 [==============================] - 7s 1ms/step - loss: 9.8186 - val_loss: 10.0508 - lr: 0.0010\n",
      "Epoch 19/100\n",
      "5072/5072 [==============================] - 7s 1ms/step - loss: 9.7796 - val_loss: 9.6922 - lr: 0.0010\n",
      "Epoch 20/100\n",
      "5072/5072 [==============================] - 7s 1ms/step - loss: 9.7403 - val_loss: 9.7369 - lr: 0.0010\n",
      "Epoch 21/100\n",
      "5072/5072 [==============================] - 7s 1ms/step - loss: 9.7166 - val_loss: 9.7796 - lr: 0.0010\n",
      "Epoch 22/100\n",
      "5072/5072 [==============================] - 7s 1ms/step - loss: 9.6938 - val_loss: 9.6581 - lr: 0.0010\n",
      "Epoch 23/100\n",
      "5072/5072 [==============================] - 7s 1ms/step - loss: 9.6752 - val_loss: 9.6917 - lr: 0.0010\n",
      "Epoch 24/100\n",
      "5072/5072 [==============================] - 7s 1ms/step - loss: 9.6471 - val_loss: 9.7337 - lr: 0.0010\n",
      "Epoch 25/100\n",
      "5072/5072 [==============================] - 7s 1ms/step - loss: 9.6275 - val_loss: 9.7554 - lr: 0.0010\n",
      "Epoch 26/100\n",
      "5072/5072 [==============================] - 7s 1ms/step - loss: 9.6100 - val_loss: 9.6108 - lr: 0.0010\n",
      "Epoch 27/100\n",
      "5072/5072 [==============================] - 7s 1ms/step - loss: 9.5817 - val_loss: 9.7462 - lr: 0.0010\n",
      "Epoch 28/100\n",
      "5072/5072 [==============================] - 7s 1ms/step - loss: 9.5835 - val_loss: 9.6951 - lr: 0.0010\n",
      "Epoch 29/100\n",
      "5072/5072 [==============================] - 7s 1ms/step - loss: 9.5688 - val_loss: 9.7355 - lr: 0.0010\n",
      "Epoch 30/100\n",
      "5072/5072 [==============================] - 7s 1ms/step - loss: 9.5649 - val_loss: 9.4544 - lr: 0.0010\n",
      "Epoch 31/100\n",
      "5072/5072 [==============================] - 7s 1ms/step - loss: 9.5552 - val_loss: 9.6588 - lr: 0.0010\n",
      "Epoch 32/100\n",
      "5072/5072 [==============================] - 7s 1ms/step - loss: 9.5307 - val_loss: 9.8636 - lr: 0.0010\n",
      "Epoch 33/100\n",
      "5072/5072 [==============================] - 7s 1ms/step - loss: 9.5316 - val_loss: 9.6157 - lr: 0.0010\n",
      "Epoch 34/100\n",
      "5072/5072 [==============================] - 7s 1ms/step - loss: 9.5469 - val_loss: 9.5572 - lr: 0.0010\n",
      "Epoch 35/100\n",
      "5072/5072 [==============================] - 7s 1ms/step - loss: 9.4938 - val_loss: 9.5753 - lr: 0.0010\n",
      "Epoch 36/100\n",
      "5072/5072 [==============================] - 7s 1ms/step - loss: 9.4895 - val_loss: 9.3626 - lr: 0.0010\n",
      "Epoch 37/100\n",
      "5072/5072 [==============================] - 7s 1ms/step - loss: 9.4328 - val_loss: 9.3751 - lr: 0.0010\n",
      "Epoch 38/100\n",
      "5072/5072 [==============================] - 7s 1ms/step - loss: 9.4014 - val_loss: 9.4820 - lr: 0.0010\n",
      "Epoch 39/100\n",
      "5072/5072 [==============================] - 7s 1ms/step - loss: 9.3660 - val_loss: 9.6545 - lr: 0.0010\n",
      "Epoch 40/100\n",
      "5072/5072 [==============================] - 7s 1ms/step - loss: 9.3545 - val_loss: 9.6789 - lr: 0.0010\n",
      "Epoch 41/100\n",
      "5072/5072 [==============================] - 7s 1ms/step - loss: 9.3354 - val_loss: 9.3929 - lr: 0.0010\n",
      "Epoch 42/100\n",
      "5072/5072 [==============================] - 6s 1ms/step - loss: 9.3191 - val_loss: 9.5008 - lr: 0.0010\n",
      "Epoch 43/100\n",
      "5072/5072 [==============================] - 7s 1ms/step - loss: 9.3179 - val_loss: 9.2258 - lr: 0.0010\n",
      "Epoch 44/100\n",
      "5072/5072 [==============================] - 7s 1ms/step - loss: 9.3105 - val_loss: 9.2842 - lr: 0.0010\n",
      "Epoch 45/100\n",
      "5072/5072 [==============================] - 7s 1ms/step - loss: 9.2998 - val_loss: 9.3905 - lr: 0.0010\n",
      "Epoch 46/100\n",
      "5072/5072 [==============================] - 7s 1ms/step - loss: 9.2894 - val_loss: 9.2813 - lr: 0.0010\n",
      "Epoch 47/100\n",
      "5072/5072 [==============================] - 7s 1ms/step - loss: 9.2910 - val_loss: 9.2425 - lr: 0.0010\n",
      "Epoch 48/100\n",
      "5072/5072 [==============================] - 7s 1ms/step - loss: 9.2842 - val_loss: 9.2965 - lr: 0.0010\n",
      "Epoch 49/100\n",
      "5072/5072 [==============================] - 7s 1ms/step - loss: 9.2800 - val_loss: 9.1760 - lr: 0.0010\n"
     ]
    }
   ],
   "source": [
    "history_adam_mse = adam.fit(x = x_train, y = y_train , epochs = 100, batch_size = 1000, callbacks=[adam_callback, callback,lr_callback], validation_data = (x_test,y_test))"
   ]
  },
  {
   "cell_type": "code",
   "execution_count": 38,
   "id": "fc6cc36c",
   "metadata": {},
   "outputs": [
    {
     "data": {
      "image/png": "[encoded data removed]",
      "text/plain": [
       "<Figure size 640x480 with 1 Axes>"
      ]
     },
     "metadata": {},
     "output_type": "display_data"
    }
   ],
   "source": [
    "training_loss_adam = history_adam_mse.history['loss']\n",
    "test_loss_adam = history_adam_mse.history['val_loss']\n",
    "\n",
    "epoch_count_adam = range(1, len(training_loss_adam) + 1)\n",
    "\n",
    "#Visualize loss history\n",
    "\n",
    "plt.plot(epoch_count_adam, training_loss_adam)\n",
    "plt.plot(epoch_count_adam, test_loss_adam)\n",
    "\n",
    "plt.legend(['Training Loss adam', 'Test Loss adam'])\n",
    "plt.xlabel('Epoch')\n",
    "plt.ylabel('Loss')\n",
    "plt.show();"
   ]
  },
  {
   "cell_type": "code",
   "execution_count": 39,
   "id": "fb627c16",
   "metadata": {},
   "outputs": [
    {
     "data": {
      "text/plain": [
       "Reusing TensorBoard on port 6006 (pid 23064), started 0:12:14 ago. (Use '!kill 23064' to kill it.)"
      ]
     },
     "metadata": {},
     "output_type": "display_data"
    },
    {
     "data": {
      "text/html": [
       "\n",
       "      <iframe id=\"tensorboard-frame-3658963e14355d8f\" width=\"100%\" height=\"800\" frameborder=\"0\">\n",
       "      </iframe>\n",
       "      <script>\n",
       "        (function() {\n",
       "          const frame = document.getElementById(\"tensorboard-frame-3658963e14355d8f\");\n",
       "          const url = new URL(\"/\", window.location);\n",
       "          const port = 6006;\n",
       "          if (port) {\n",
       "            url.port = port;\n",
       "          }\n",
       "          frame.src = url;\n",
       "        })();\n",
       "      </script>\n",
       "    "
      ],
      "text/plain": [
       "<IPython.core.display.HTML object>"
      ]
     },
     "metadata": {},
     "output_type": "display_data"
    }
   ],
   "source": [
    "%reload_ext tensorboard\n",
    "%tensorboard --logdir ./logs"
   ]
  },
  {
   "cell_type": "code",
   "execution_count": 40,
   "id": "5d20a5a4",
   "metadata": {},
   "outputs": [],
   "source": [
    "score.append(np.round(history_adam_mse.history['loss'][-1],2))\n",
    "score_val.append(np.round(history_adam_mse.history['val_loss'][-1],2))\n",
    "optimizer.append('adam')\n",
    "loss.append('mse')\n",
    "hl.append(2)"
   ]
  },
  {
   "cell_type": "code",
   "execution_count": 41,
   "id": "ceb08824",
   "metadata": {
    "scrolled": true
   },
   "outputs": [
    {
     "name": "stdout",
     "output_type": "stream",
     "text": [
      "Epoch 1/100\n",
      "5072/5072 [==============================] - 7s 1ms/step - loss: 10.3003 - val_loss: 9.7229 - lr: 0.0010\n",
      "Epoch 2/100\n",
      "5072/5072 [==============================] - 7s 1ms/step - loss: 10.1345 - val_loss: 10.2570 - lr: 0.0010\n",
      "Epoch 3/100\n",
      "5072/5072 [==============================] - 6s 1ms/step - loss: 10.0682 - val_loss: 12.3492 - lr: 0.0010\n",
      "Epoch 4/100\n",
      "5072/5072 [==============================] - 6s 1ms/step - loss: 9.9804 - val_loss: 9.5799 - lr: 0.0010\n",
      "Epoch 5/100\n",
      "5072/5072 [==============================] - 7s 1ms/step - loss: 9.9371 - val_loss: 9.4977 - lr: 0.0010\n",
      "Epoch 6/100\n",
      "5072/5072 [==============================] - 6s 1ms/step - loss: 9.8820 - val_loss: 9.4215 - lr: 0.0010\n",
      "Epoch 7/100\n",
      "5072/5072 [==============================] - 6s 1ms/step - loss: 9.8294 - val_loss: 9.4848 - lr: 0.0010\n",
      "Epoch 8/100\n",
      "5072/5072 [==============================] - 6s 1ms/step - loss: 9.7880 - val_loss: 11.0899 - lr: 0.0010\n",
      "Epoch 9/100\n",
      "5072/5072 [==============================] - 6s 1ms/step - loss: 9.7695 - val_loss: 9.3335 - lr: 0.0010\n",
      "Epoch 10/100\n",
      "5072/5072 [==============================] - 6s 1ms/step - loss: 9.7393 - val_loss: 9.9216 - lr: 0.0010\n",
      "Epoch 11/100\n",
      "5072/5072 [==============================] - 6s 1ms/step - loss: 9.7080 - val_loss: 10.5016 - lr: 0.0010\n",
      "Epoch 12/100\n",
      "5072/5072 [==============================] - 6s 1ms/step - loss: 9.6833 - val_loss: 9.3334 - lr: 0.0010\n",
      "Epoch 13/100\n",
      "5072/5072 [==============================] - 6s 1ms/step - loss: 9.6701 - val_loss: 9.8173 - lr: 0.0010\n",
      "Epoch 14/100\n",
      "5072/5072 [==============================] - 7s 1ms/step - loss: 9.6557 - val_loss: 9.5509 - lr: 0.0010\n",
      "Epoch 15/100\n",
      "5072/5072 [==============================] - 6s 1ms/step - loss: 9.6424 - val_loss: 9.9153 - lr: 0.0010\n",
      "Epoch 16/100\n",
      "5072/5072 [==============================] - 6s 1ms/step - loss: 9.6319 - val_loss: 9.3732 - lr: 0.0010\n",
      "Epoch 17/100\n",
      "5072/5072 [==============================] - 6s 1ms/step - loss: 9.6074 - val_loss: 9.7877 - lr: 0.0010\n",
      "Epoch 18/100\n",
      "5072/5072 [==============================] - 6s 1ms/step - loss: 9.6127 - val_loss: 9.7544 - lr: 0.0010\n",
      "Epoch 19/100\n",
      "5072/5072 [==============================] - 6s 1ms/step - loss: 9.6124 - val_loss: 10.0538 - lr: 0.0010\n",
      "Epoch 20/100\n",
      "5072/5072 [==============================] - 6s 1ms/step - loss: 9.6166 - val_loss: 9.4433 - lr: 0.0010\n"
     ]
    }
   ],
   "source": [
    "history_rms_mse = rms.fit(x = x_train, y = y_train , epochs = 100, batch_size = 1000, callbacks=[rms_callback, callback,lr_callback], validation_data = (x_test,y_test))"
   ]
  },
  {
   "cell_type": "code",
   "execution_count": 42,
   "id": "6cca3f75",
   "metadata": {},
   "outputs": [
    {
     "data": {
      "image/png": "[encoded data removed]",
      "text/plain": [
       "<Figure size 640x480 with 1 Axes>"
      ]
     },
     "metadata": {},
     "output_type": "display_data"
    }
   ],
   "source": [
    "training_loss_rms = history_rms_mse.history['loss']\n",
    "test_loss_rms = history_rms_mse.history['val_loss']\n",
    "\n",
    "epoch_count_rms = range(1, len(training_loss_rms) + 1)\n",
    "\n",
    "#Visualize loss history\n",
    "\n",
    "plt.plot(epoch_count_rms, training_loss_rms)\n",
    "plt.plot(epoch_count_rms, test_loss_rms)\n",
    "\n",
    "plt.legend(['Training Loss rms', 'Test Loss rms'])\n",
    "plt.xlabel('Epoch')\n",
    "plt.ylabel('Loss')\n",
    "plt.show();"
   ]
  },
  {
   "cell_type": "code",
   "execution_count": 43,
   "id": "c392eb7e",
   "metadata": {},
   "outputs": [
    {
     "data": {
      "text/plain": [
       "Reusing TensorBoard on port 6006 (pid 23064), started 0:14:24 ago. (Use '!kill 23064' to kill it.)"
      ]
     },
     "metadata": {},
     "output_type": "display_data"
    },
    {
     "data": {
      "text/html": [
       "\n",
       "      <iframe id=\"tensorboard-frame-d95d791196783dc7\" width=\"100%\" height=\"800\" frameborder=\"0\">\n",
       "      </iframe>\n",
       "      <script>\n",
       "        (function() {\n",
       "          const frame = document.getElementById(\"tensorboard-frame-d95d791196783dc7\");\n",
       "          const url = new URL(\"/\", window.location);\n",
       "          const port = 6006;\n",
       "          if (port) {\n",
       "            url.port = port;\n",
       "          }\n",
       "          frame.src = url;\n",
       "        })();\n",
       "      </script>\n",
       "    "
      ],
      "text/plain": [
       "<IPython.core.display.HTML object>"
      ]
     },
     "metadata": {},
     "output_type": "display_data"
    }
   ],
   "source": [
    "%reload_ext tensorboard\n",
    "%tensorboard --logdir ./logs"
   ]
  },
  {
   "cell_type": "code",
   "execution_count": 44,
   "id": "0690aefa",
   "metadata": {},
   "outputs": [],
   "source": [
    "score.append(np.round(history_rms_mse.history['loss'][-1],2))\n",
    "score_val.append(np.round(history_rms_mse.history['val_loss'][-1],2))\n",
    "optimizer.append('rms')\n",
    "loss.append('mse')\n",
    "hl.append(2)"
   ]
  },
  {
   "cell_type": "markdown",
   "id": "f20f288f",
   "metadata": {},
   "source": [
    "# Mean Absolute Error Loss"
   ]
  },
  {
   "cell_type": "code",
   "execution_count": 45,
   "id": "b5d5858c",
   "metadata": {},
   "outputs": [],
   "source": [
    "input_layer = tf.keras.layers.Input(shape = (X_train.shape[1]), name = 'input_layer')\n",
    "h1 = tf.keras.layers.Dense(100, activation = 'relu' , name = 'hidden_layer1')(input_layer)\n",
    "h2 = tf.keras.layers.Dense(100, activation = 'sigmoid' , name = 'hidden_layer2')(h1)\n",
    "output_layer = tf.keras.layers.Dense(1, name = 'output_layer')(h2)\n",
    "\n",
    "lossf = tf.keras.losses.MeanAbsoluteError()\n",
    "\n",
    "sgd = tf.keras.Model(inputs = (input_layer) , outputs = (output_layer))\n",
    "adam = tf.keras.Model(inputs = (input_layer) , outputs = (output_layer))\n",
    "rms = tf.keras.Model(inputs = (input_layer) , outputs = (output_layer))\n",
    "\n",
    "sgd.compile(optimizer=tf.keras.optimizers.SGD(learning_rate=0.001),\n",
    "              loss=lossf)\n",
    "\n",
    "adam.compile(optimizer=tf.keras.optimizers.Adam(learning_rate=0.001),\n",
    "              loss=lossf)\n",
    "\n",
    "rms.compile(optimizer=tf.keras.optimizers.RMSprop(learning_rate=0.001),\n",
    "              loss=lossf)\n",
    "\n",
    "import datetime\n",
    "\n",
    "adam_callback = tf.keras.callbacks.TensorBoard(log_dir=\"logs/adam_mse_hl\", histogram_freq=1)\n",
    "sgd_callback = tf.keras.callbacks.TensorBoard(log_dir=\"logs/sgd_mse_hl\", histogram_freq=1)\n",
    "rms_callback = tf.keras.callbacks.TensorBoard(log_dir=\"logs/rms_mse_hl\", histogram_freq=1)\n",
    "\n",
    "callback = tf.keras.callbacks.EarlyStopping(monitor='loss', patience=3, min_delta = 0.01)\n",
    "lr_callback = tf.keras.callbacks.ReduceLROnPlateau(monitor = 'val_loss', factor = 0.05, patience = 3, min_lr = 0.001)\n"
   ]
  },
  {
   "cell_type": "code",
   "execution_count": 46,
   "id": "9f7f291a",
   "metadata": {
    "scrolled": true
   },
   "outputs": [
    {
     "name": "stdout",
     "output_type": "stream",
     "text": [
      "Epoch 1/100\n",
      "5072/5072 [==============================] - 8s 1ms/step - loss: 6.4004 - val_loss: 6.4861 - lr: 0.0010\n",
      "Epoch 2/100\n",
      "5072/5072 [==============================] - 7s 1ms/step - loss: 6.3315 - val_loss: 4.4503 - lr: 0.0010\n",
      "Epoch 3/100\n",
      "5072/5072 [==============================] - 7s 1ms/step - loss: 5.6489 - val_loss: 4.2171 - lr: 0.0010\n",
      "Epoch 4/100\n",
      "5072/5072 [==============================] - 7s 1ms/step - loss: 4.6606 - val_loss: 3.5350 - lr: 0.0010\n",
      "Epoch 5/100\n",
      "5072/5072 [==============================] - 7s 1ms/step - loss: 4.0395 - val_loss: 3.0930 - lr: 0.0010\n",
      "Epoch 6/100\n",
      "5072/5072 [==============================] - 7s 1ms/step - loss: 3.7217 - val_loss: 2.9825 - lr: 0.0010\n",
      "Epoch 7/100\n",
      "5072/5072 [==============================] - 7s 1ms/step - loss: 3.5218 - val_loss: 2.8547 - lr: 0.0010\n",
      "Epoch 8/100\n",
      "5072/5072 [==============================] - 7s 1ms/step - loss: 3.3620 - val_loss: 3.5582 - lr: 0.0010\n",
      "Epoch 9/100\n",
      "5072/5072 [==============================] - 7s 1ms/step - loss: 3.2206 - val_loss: 3.1878 - lr: 0.0010\n",
      "Epoch 10/100\n",
      "5072/5072 [==============================] - 7s 1ms/step - loss: 3.1298 - val_loss: 3.2959 - lr: 0.0010\n",
      "Epoch 11/100\n",
      "5072/5072 [==============================] - 7s 1ms/step - loss: 3.0777 - val_loss: 2.8488 - lr: 0.0010\n",
      "Epoch 12/100\n",
      "5072/5072 [==============================] - 7s 1ms/step - loss: 3.0260 - val_loss: 3.0516 - lr: 0.0010\n",
      "Epoch 13/100\n",
      "5072/5072 [==============================] - 7s 1ms/step - loss: 2.9807 - val_loss: 2.9783 - lr: 0.0010\n",
      "Epoch 14/100\n",
      "5072/5072 [==============================] - 7s 1ms/step - loss: 2.9363 - val_loss: 3.0289 - lr: 0.0010\n",
      "Epoch 15/100\n",
      "5072/5072 [==============================] - 7s 1ms/step - loss: 2.8975 - val_loss: 2.8083 - lr: 0.0010\n",
      "Epoch 16/100\n",
      "5072/5072 [==============================] - 7s 1ms/step - loss: 2.8692 - val_loss: 3.0594 - lr: 0.0010\n",
      "Epoch 17/100\n",
      "5072/5072 [==============================] - 7s 1ms/step - loss: 2.8366 - val_loss: 3.0316 - lr: 0.0010\n",
      "Epoch 18/100\n",
      "5072/5072 [==============================] - 7s 1ms/step - loss: 2.8137 - val_loss: 3.1039 - lr: 0.0010\n",
      "Epoch 19/100\n",
      "5072/5072 [==============================] - 7s 1ms/step - loss: 2.7874 - val_loss: 2.9017 - lr: 0.0010\n",
      "Epoch 20/100\n",
      "5072/5072 [==============================] - 7s 1ms/step - loss: 2.7684 - val_loss: 2.5693 - lr: 0.0010\n",
      "Epoch 21/100\n",
      "5072/5072 [==============================] - 7s 1ms/step - loss: 2.7385 - val_loss: 2.6843 - lr: 0.0010\n",
      "Epoch 22/100\n",
      "5072/5072 [==============================] - 7s 1ms/step - loss: 2.7134 - val_loss: 2.7624 - lr: 0.0010\n",
      "Epoch 23/100\n",
      "5072/5072 [==============================] - 7s 1ms/step - loss: 2.6845 - val_loss: 2.6464 - lr: 0.0010\n",
      "Epoch 24/100\n",
      "5072/5072 [==============================] - 7s 1ms/step - loss: 2.6620 - val_loss: 3.1782 - lr: 0.0010\n",
      "Epoch 25/100\n",
      "5072/5072 [==============================] - 7s 1ms/step - loss: 2.6446 - val_loss: 2.7202 - lr: 0.0010\n",
      "Epoch 26/100\n",
      "5072/5072 [==============================] - 7s 1ms/step - loss: 2.6537 - val_loss: 2.7745 - lr: 0.0010\n",
      "Epoch 27/100\n",
      "5072/5072 [==============================] - 7s 1ms/step - loss: 2.6245 - val_loss: 2.4589 - lr: 0.0010\n",
      "Epoch 28/100\n",
      "5072/5072 [==============================] - 7s 1ms/step - loss: 2.6042 - val_loss: 2.5271 - lr: 0.0010\n",
      "Epoch 29/100\n",
      "5072/5072 [==============================] - 7s 1ms/step - loss: 2.5914 - val_loss: 2.4213 - lr: 0.0010\n",
      "Epoch 30/100\n",
      "5072/5072 [==============================] - 7s 1ms/step - loss: 2.5706 - val_loss: 2.6624 - lr: 0.0010\n",
      "Epoch 31/100\n",
      "5072/5072 [==============================] - 7s 1ms/step - loss: 2.5493 - val_loss: 2.4277 - lr: 0.0010\n",
      "Epoch 32/100\n",
      "5072/5072 [==============================] - 7s 1ms/step - loss: 2.5415 - val_loss: 2.5194 - lr: 0.0010\n",
      "Epoch 33/100\n",
      "5072/5072 [==============================] - 7s 1ms/step - loss: 2.5276 - val_loss: 2.6129 - lr: 0.0010\n",
      "Epoch 34/100\n",
      "5072/5072 [==============================] - 7s 1ms/step - loss: 2.5157 - val_loss: 2.3724 - lr: 0.0010\n",
      "Epoch 35/100\n",
      "5072/5072 [==============================] - 7s 1ms/step - loss: 2.5019 - val_loss: 2.9240 - lr: 0.0010\n",
      "Epoch 36/100\n",
      "5072/5072 [==============================] - 7s 1ms/step - loss: 2.4924 - val_loss: 2.3250 - lr: 0.0010\n",
      "Epoch 37/100\n",
      "5072/5072 [==============================] - 8s 1ms/step - loss: 2.4802 - val_loss: 2.5653 - lr: 0.0010\n",
      "Epoch 38/100\n",
      "5072/5072 [==============================] - 7s 1ms/step - loss: 2.4680 - val_loss: 2.6218 - lr: 0.0010\n",
      "Epoch 39/100\n",
      "5072/5072 [==============================] - 7s 1ms/step - loss: 2.4610 - val_loss: 2.5470 - lr: 0.0010\n",
      "Epoch 40/100\n",
      "5072/5072 [==============================] - 7s 1ms/step - loss: 2.4518 - val_loss: 2.3838 - lr: 0.0010\n",
      "Epoch 41/100\n",
      "5072/5072 [==============================] - 7s 1ms/step - loss: 2.4403 - val_loss: 3.1694 - lr: 0.0010\n",
      "Epoch 42/100\n",
      "5072/5072 [==============================] - 7s 1ms/step - loss: 2.4322 - val_loss: 2.8243 - lr: 0.0010\n",
      "Epoch 43/100\n",
      "5072/5072 [==============================] - 7s 1ms/step - loss: 2.4229 - val_loss: 2.1671 - lr: 0.0010\n",
      "Epoch 44/100\n",
      "5072/5072 [==============================] - 7s 1ms/step - loss: 2.4123 - val_loss: 2.4960 - lr: 0.0010\n",
      "Epoch 45/100\n",
      "5072/5072 [==============================] - 7s 1ms/step - loss: 2.4087 - val_loss: 2.4888 - lr: 0.0010\n",
      "Epoch 46/100\n",
      "5072/5072 [==============================] - 7s 1ms/step - loss: 2.4027 - val_loss: 2.4798 - lr: 0.0010\n",
      "Epoch 47/100\n",
      "5072/5072 [==============================] - 7s 1ms/step - loss: 2.3907 - val_loss: 2.6052 - lr: 0.0010\n",
      "Epoch 48/100\n",
      "5072/5072 [==============================] - 7s 1ms/step - loss: 2.3889 - val_loss: 2.3728 - lr: 0.0010\n",
      "Epoch 49/100\n",
      "5072/5072 [==============================] - 8s 1ms/step - loss: 2.3781 - val_loss: 2.3257 - lr: 0.0010\n",
      "Epoch 50/100\n",
      "5072/5072 [==============================] - 7s 1ms/step - loss: 2.3721 - val_loss: 2.5964 - lr: 0.0010\n",
      "Epoch 51/100\n",
      "5072/5072 [==============================] - 7s 1ms/step - loss: 2.3663 - val_loss: 2.3163 - lr: 0.0010\n",
      "Epoch 52/100\n",
      "5072/5072 [==============================] - 7s 1ms/step - loss: 2.3597 - val_loss: 2.4363 - lr: 0.0010\n",
      "Epoch 53/100\n",
      "5072/5072 [==============================] - 7s 1ms/step - loss: 2.3539 - val_loss: 2.4174 - lr: 0.0010\n",
      "Epoch 54/100\n",
      "5072/5072 [==============================] - 7s 1ms/step - loss: 2.3454 - val_loss: 2.3810 - lr: 0.0010\n",
      "Epoch 55/100\n",
      "5072/5072 [==============================] - 7s 1ms/step - loss: 2.3415 - val_loss: 2.2806 - lr: 0.0010\n",
      "Epoch 56/100\n",
      "5072/5072 [==============================] - 7s 1ms/step - loss: 2.3355 - val_loss: 2.1661 - lr: 0.0010\n",
      "Epoch 57/100\n",
      "5072/5072 [==============================] - 7s 1ms/step - loss: 2.3311 - val_loss: 2.0561 - lr: 0.0010\n",
      "Epoch 58/100\n",
      "5072/5072 [==============================] - 7s 1ms/step - loss: 2.3254 - val_loss: 2.1878 - lr: 0.0010\n",
      "Epoch 59/100\n",
      "5072/5072 [==============================] - 7s 1ms/step - loss: 2.3212 - val_loss: 2.2912 - lr: 0.0010\n",
      "Epoch 60/100\n",
      "5072/5072 [==============================] - 7s 1ms/step - loss: 2.3178 - val_loss: 2.1610 - lr: 0.0010\n",
      "Epoch 61/100\n",
      "5072/5072 [==============================] - 7s 1ms/step - loss: 2.3116 - val_loss: 2.4953 - lr: 0.0010\n",
      "Epoch 62/100\n",
      "5072/5072 [==============================] - 7s 1ms/step - loss: 2.3057 - val_loss: 2.1903 - lr: 0.0010\n",
      "Epoch 63/100\n",
      "5072/5072 [==============================] - 7s 1ms/step - loss: 2.3035 - val_loss: 2.3072 - lr: 0.0010\n",
      "Epoch 64/100\n",
      "5072/5072 [==============================] - 7s 1ms/step - loss: 2.2985 - val_loss: 2.0808 - lr: 0.0010\n",
      "Epoch 65/100\n",
      "5072/5072 [==============================] - 7s 1ms/step - loss: 2.2910 - val_loss: 3.1927 - lr: 0.0010\n",
      "Epoch 66/100\n",
      "5072/5072 [==============================] - 7s 1ms/step - loss: 2.2889 - val_loss: 2.4265 - lr: 0.0010\n",
      "Epoch 67/100\n",
      "5072/5072 [==============================] - 7s 1ms/step - loss: 2.2855 - val_loss: 2.0664 - lr: 0.0010\n",
      "Epoch 68/100\n",
      "5072/5072 [==============================] - 7s 1ms/step - loss: 2.2794 - val_loss: 2.1671 - lr: 0.0010\n",
      "Epoch 69/100\n",
      "5072/5072 [==============================] - 7s 1ms/step - loss: 2.2780 - val_loss: 2.3960 - lr: 0.0010\n",
      "Epoch 70/100\n",
      "5072/5072 [==============================] - 7s 1ms/step - loss: 2.2701 - val_loss: 2.3856 - lr: 0.0010\n",
      "Epoch 71/100\n"
     ]
    },
    {
     "name": "stdout",
     "output_type": "stream",
     "text": [
      "5072/5072 [==============================] - 7s 1ms/step - loss: 2.2666 - val_loss: 2.3656 - lr: 0.0010\n",
      "Epoch 72/100\n",
      "5072/5072 [==============================] - 7s 1ms/step - loss: 2.2609 - val_loss: 2.0270 - lr: 0.0010\n",
      "Epoch 73/100\n",
      "5072/5072 [==============================] - 8s 1ms/step - loss: 2.2635 - val_loss: 2.3425 - lr: 0.0010\n",
      "Epoch 74/100\n",
      "5072/5072 [==============================] - 7s 1ms/step - loss: 2.2546 - val_loss: 2.0680 - lr: 0.0010\n",
      "Epoch 75/100\n",
      "5072/5072 [==============================] - 8s 1ms/step - loss: 2.2520 - val_loss: 2.2154 - lr: 0.0010\n",
      "Epoch 76/100\n",
      "5072/5072 [==============================] - 7s 1ms/step - loss: 2.2485 - val_loss: 2.0694 - lr: 0.0010\n",
      "Epoch 77/100\n",
      "5072/5072 [==============================] - 8s 2ms/step - loss: 2.2445 - val_loss: 2.2308 - lr: 0.0010\n",
      "Epoch 78/100\n",
      "5072/5072 [==============================] - 8s 1ms/step - loss: 2.2399 - val_loss: 2.0867 - lr: 0.0010\n",
      "Epoch 79/100\n",
      "5072/5072 [==============================] - 7s 1ms/step - loss: 2.2363 - val_loss: 2.3336 - lr: 0.0010\n",
      "Epoch 80/100\n",
      "5072/5072 [==============================] - 7s 1ms/step - loss: 2.2311 - val_loss: 2.1955 - lr: 0.0010\n",
      "Epoch 81/100\n",
      "5072/5072 [==============================] - 7s 1ms/step - loss: 2.2294 - val_loss: 1.9321 - lr: 0.0010\n",
      "Epoch 82/100\n",
      "5072/5072 [==============================] - 7s 1ms/step - loss: 2.2256 - val_loss: 2.2889 - lr: 0.0010\n",
      "Epoch 83/100\n",
      "5072/5072 [==============================] - 7s 1ms/step - loss: 2.2215 - val_loss: 2.3176 - lr: 0.0010\n"
     ]
    }
   ],
   "source": [
    "history_sgd_mae = sgd.fit(x = x_train, y = y_train , epochs = 100, batch_size = 1000, callbacks=[sgd_callback, callback,lr_callback], validation_data = (x_test,y_test))"
   ]
  },
  {
   "cell_type": "code",
   "execution_count": 47,
   "id": "4adbc78d",
   "metadata": {},
   "outputs": [
    {
     "data": {
      "image/png": "[encoded data removed]",
      "text/plain": [
       "<Figure size 640x480 with 1 Axes>"
      ]
     },
     "metadata": {},
     "output_type": "display_data"
    }
   ],
   "source": [
    "training_loss_sgd = history_sgd_mae.history['loss']\n",
    "test_loss_sgd = history_sgd_mae.history['val_loss']\n",
    "\n",
    "epoch_count_sgd = range(1, len(training_loss_sgd) + 1)\n",
    "\n",
    "#Visualize loss history\n",
    "\n",
    "plt.plot(epoch_count_sgd, training_loss_sgd)\n",
    "plt.plot(epoch_count_sgd, test_loss_sgd)\n",
    "\n",
    "plt.legend(['Training Loss sgd', 'Test Loss sgd'])\n",
    "plt.xlabel('Epoch')\n",
    "plt.ylabel('Loss')\n",
    "plt.show();"
   ]
  },
  {
   "cell_type": "code",
   "execution_count": 48,
   "id": "f377f612",
   "metadata": {},
   "outputs": [
    {
     "data": {
      "text/plain": [
       "Reusing TensorBoard on port 6006 (pid 23064), started 0:24:28 ago. (Use '!kill 23064' to kill it.)"
      ]
     },
     "metadata": {},
     "output_type": "display_data"
    },
    {
     "data": {
      "text/html": [
       "\n",
       "      <iframe id=\"tensorboard-frame-735e8e4a96413f53\" width=\"100%\" height=\"800\" frameborder=\"0\">\n",
       "      </iframe>\n",
       "      <script>\n",
       "        (function() {\n",
       "          const frame = document.getElementById(\"tensorboard-frame-735e8e4a96413f53\");\n",
       "          const url = new URL(\"/\", window.location);\n",
       "          const port = 6006;\n",
       "          if (port) {\n",
       "            url.port = port;\n",
       "          }\n",
       "          frame.src = url;\n",
       "        })();\n",
       "      </script>\n",
       "    "
      ],
      "text/plain": [
       "<IPython.core.display.HTML object>"
      ]
     },
     "metadata": {},
     "output_type": "display_data"
    }
   ],
   "source": [
    "%reload_ext tensorboard\n",
    "%tensorboard --logdir ./logs"
   ]
  },
  {
   "cell_type": "code",
   "execution_count": 49,
   "id": "d34b211d",
   "metadata": {},
   "outputs": [],
   "source": [
    "score.append(np.round(history_sgd_mae.history['loss'][-1],2))\n",
    "score_val.append(np.round(history_sgd_mae.history['val_loss'][-1],2))\n",
    "optimizer.append('sgd')\n",
    "loss.append('mae')\n",
    "hl.append(2)"
   ]
  },
  {
   "cell_type": "code",
   "execution_count": 50,
   "id": "e9c4d1c2",
   "metadata": {
    "scrolled": true
   },
   "outputs": [
    {
     "name": "stdout",
     "output_type": "stream",
     "text": [
      "Epoch 1/100\n",
      "5072/5072 [==============================] - 10s 2ms/step - loss: 11.3755 - val_loss: 11.7983 - lr: 0.0010\n",
      "Epoch 2/100\n",
      "5072/5072 [==============================] - 9s 2ms/step - loss: 11.3276 - val_loss: 11.7983 - lr: 0.0010\n",
      "Epoch 3/100\n",
      "5072/5072 [==============================] - 9s 2ms/step - loss: 11.3276 - val_loss: 11.7983 - lr: 0.0010\n",
      "Epoch 4/100\n",
      "5072/5072 [==============================] - 9s 2ms/step - loss: 11.3276 - val_loss: 11.7983 - lr: 0.0010\n",
      "Epoch 5/100\n",
      "5072/5072 [==============================] - 9s 2ms/step - loss: 11.3276 - val_loss: 11.7983 - lr: 0.0010\n"
     ]
    }
   ],
   "source": [
    "history_adam_mae = adam.fit(x = x_train, y = y_train , epochs = 100, batch_size = 1000, callbacks=[adam_callback, callback,lr_callback], validation_data = (x_test,y_test))"
   ]
  },
  {
   "cell_type": "code",
   "execution_count": 51,
   "id": "ed7f5b64",
   "metadata": {},
   "outputs": [
    {
     "data": {
      "image/png": "[encoded data removed]",
      "text/plain": [
       "<Figure size 640x480 with 1 Axes>"
      ]
     },
     "metadata": {},
     "output_type": "display_data"
    }
   ],
   "source": [
    "training_loss_adam = history_adam_mae.history['loss']\n",
    "test_loss_adam = history_adam_mae.history['val_loss']\n",
    "\n",
    "epoch_count_adam = range(1, len(training_loss_adam) + 1)\n",
    "\n",
    "#Visualize loss history\n",
    "\n",
    "plt.plot(epoch_count_adam, training_loss_adam)\n",
    "plt.plot(epoch_count_adam, test_loss_adam)\n",
    "\n",
    "plt.legend(['Training Loss adam', 'Test Loss adam'])\n",
    "plt.xlabel('Epoch')\n",
    "plt.ylabel('Loss')\n",
    "plt.show();"
   ]
  },
  {
   "cell_type": "code",
   "execution_count": 52,
   "id": "21fee813",
   "metadata": {},
   "outputs": [
    {
     "data": {
      "text/plain": [
       "Reusing TensorBoard on port 6006 (pid 23064), started 0:25:15 ago. (Use '!kill 23064' to kill it.)"
      ]
     },
     "metadata": {},
     "output_type": "display_data"
    },
    {
     "data": {
      "text/html": [
       "\n",
       "      <iframe id=\"tensorboard-frame-4dcfaaf84259b76a\" width=\"100%\" height=\"800\" frameborder=\"0\">\n",
       "      </iframe>\n",
       "      <script>\n",
       "        (function() {\n",
       "          const frame = document.getElementById(\"tensorboard-frame-4dcfaaf84259b76a\");\n",
       "          const url = new URL(\"/\", window.location);\n",
       "          const port = 6006;\n",
       "          if (port) {\n",
       "            url.port = port;\n",
       "          }\n",
       "          frame.src = url;\n",
       "        })();\n",
       "      </script>\n",
       "    "
      ],
      "text/plain": [
       "<IPython.core.display.HTML object>"
      ]
     },
     "metadata": {},
     "output_type": "display_data"
    }
   ],
   "source": [
    "%reload_ext tensorboard\n",
    "%tensorboard --logdir ./logs"
   ]
  },
  {
   "cell_type": "code",
   "execution_count": 53,
   "id": "bcc7510d",
   "metadata": {},
   "outputs": [],
   "source": [
    "score.append(np.round(history_adam_mae.history['loss'][-1],2))\n",
    "score_val.append(np.round(history_adam_mae.history['val_loss'][-1],2))\n",
    "optimizer.append('adam')\n",
    "loss.append('mae')\n",
    "hl.append(2)"
   ]
  },
  {
   "cell_type": "code",
   "execution_count": 54,
   "id": "9a54294c",
   "metadata": {
    "scrolled": true
   },
   "outputs": [
    {
     "name": "stdout",
     "output_type": "stream",
     "text": [
      "Epoch 1/100\n",
      "5072/5072 [==============================] - 8s 2ms/step - loss: 6.5778 - val_loss: 6.7421 - lr: 0.0010\n",
      "Epoch 2/100\n",
      "5072/5072 [==============================] - 7s 1ms/step - loss: 5.1442 - val_loss: 2.3043 - lr: 0.0010\n",
      "Epoch 3/100\n",
      "5072/5072 [==============================] - 7s 1ms/step - loss: 2.1257 - val_loss: 1.6173 - lr: 0.0010\n",
      "Epoch 4/100\n",
      "5072/5072 [==============================] - 7s 1ms/step - loss: 1.7305 - val_loss: 1.8357 - lr: 0.0010\n",
      "Epoch 5/100\n",
      "5072/5072 [==============================] - 7s 1ms/step - loss: 1.5660 - val_loss: 1.4399 - lr: 0.0010\n",
      "Epoch 6/100\n",
      "5072/5072 [==============================] - 7s 1ms/step - loss: 1.4740 - val_loss: 1.3199 - lr: 0.0010\n",
      "Epoch 7/100\n",
      "5072/5072 [==============================] - 7s 1ms/step - loss: 1.4161 - val_loss: 1.2272 - lr: 0.0010\n",
      "Epoch 8/100\n",
      "5072/5072 [==============================] - 7s 1ms/step - loss: 1.3743 - val_loss: 1.3293 - lr: 0.0010\n",
      "Epoch 9/100\n",
      "5072/5072 [==============================] - 7s 1ms/step - loss: 1.3429 - val_loss: 1.3318 - lr: 0.0010\n",
      "Epoch 10/100\n",
      "5072/5072 [==============================] - 7s 1ms/step - loss: 1.3180 - val_loss: 1.3076 - lr: 0.0010\n",
      "Epoch 11/100\n",
      "5072/5072 [==============================] - 7s 1ms/step - loss: 1.2958 - val_loss: 1.3147 - lr: 0.0010\n",
      "Epoch 12/100\n",
      "5072/5072 [==============================] - 7s 1ms/step - loss: 1.2756 - val_loss: 1.3907 - lr: 0.0010\n",
      "Epoch 13/100\n",
      "5072/5072 [==============================] - 7s 1ms/step - loss: 1.2611 - val_loss: 1.3470 - lr: 0.0010\n",
      "Epoch 14/100\n",
      "5072/5072 [==============================] - 7s 1ms/step - loss: 1.2458 - val_loss: 1.4563 - lr: 0.0010\n",
      "Epoch 15/100\n",
      "5072/5072 [==============================] - 7s 1ms/step - loss: 1.2314 - val_loss: 1.2466 - lr: 0.0010\n",
      "Epoch 16/100\n",
      "5072/5072 [==============================] - 7s 1ms/step - loss: 1.2207 - val_loss: 1.2465 - lr: 0.0010\n",
      "Epoch 17/100\n",
      "5072/5072 [==============================] - 7s 1ms/step - loss: 1.2127 - val_loss: 1.1919 - lr: 0.0010\n",
      "Epoch 18/100\n",
      "5072/5072 [==============================] - 7s 1ms/step - loss: 1.2035 - val_loss: 1.3860 - lr: 0.0010\n",
      "Epoch 19/100\n",
      "5072/5072 [==============================] - 7s 1ms/step - loss: 1.1965 - val_loss: 1.1264 - lr: 0.0010\n",
      "Epoch 20/100\n",
      "5072/5072 [==============================] - 7s 1ms/step - loss: 1.1907 - val_loss: 1.2355 - lr: 0.0010\n",
      "Epoch 21/100\n",
      "5072/5072 [==============================] - 7s 1ms/step - loss: 1.1845 - val_loss: 1.2046 - lr: 0.0010\n",
      "Epoch 22/100\n",
      "5072/5072 [==============================] - 7s 1ms/step - loss: 1.1786 - val_loss: 1.2301 - lr: 0.0010\n",
      "Epoch 23/100\n",
      "5072/5072 [==============================] - 7s 1ms/step - loss: 1.1744 - val_loss: 1.4373 - lr: 0.0010\n",
      "Epoch 24/100\n",
      "5072/5072 [==============================] - 7s 1ms/step - loss: 1.1708 - val_loss: 1.1317 - lr: 0.0010\n",
      "Epoch 25/100\n",
      "5072/5072 [==============================] - 7s 1ms/step - loss: 1.1679 - val_loss: 1.1839 - lr: 0.0010\n",
      "Epoch 26/100\n",
      "5072/5072 [==============================] - 7s 1ms/step - loss: 1.1650 - val_loss: 1.1043 - lr: 0.0010\n",
      "Epoch 27/100\n",
      "5072/5072 [==============================] - 7s 1ms/step - loss: 1.1621 - val_loss: 1.1856 - lr: 0.0010\n",
      "Epoch 28/100\n",
      "5072/5072 [==============================] - 7s 1ms/step - loss: 1.1595 - val_loss: 1.1314 - lr: 0.0010\n"
     ]
    }
   ],
   "source": [
    "history_rms_mae = rms.fit(x = x_train, y = y_train , epochs = 100, batch_size = 1000, callbacks=[rms_callback, callback,lr_callback], validation_data = (x_test,y_test))"
   ]
  },
  {
   "cell_type": "code",
   "execution_count": 55,
   "id": "d8c63937",
   "metadata": {
    "scrolled": false
   },
   "outputs": [
    {
     "data": {
      "image/png": "[encoded data removed]",
      "text/plain": [
       "<Figure size 640x480 with 1 Axes>"
      ]
     },
     "metadata": {},
     "output_type": "display_data"
    }
   ],
   "source": [
    "training_loss_rms = history_rms_mae.history['loss']\n",
    "test_loss_rms = history_rms_mae.history['val_loss']\n",
    "\n",
    "epoch_count_rms = range(1, len(training_loss_rms) + 1)\n",
    "\n",
    "#Visualize loss history\n",
    "\n",
    "plt.plot(epoch_count_rms, training_loss_rms)\n",
    "plt.plot(epoch_count_rms, test_loss_rms)\n",
    "\n",
    "plt.legend(['Training Loss rms', 'Test Loss rms'])\n",
    "plt.xlabel('Epoch')\n",
    "plt.ylabel('Loss')\n",
    "plt.show();"
   ]
  },
  {
   "cell_type": "code",
   "execution_count": 56,
   "id": "50b070c4",
   "metadata": {},
   "outputs": [
    {
     "data": {
      "text/plain": [
       "Reusing TensorBoard on port 6006 (pid 22280), started 0:28:55 ago. (Use '!kill 22280' to kill it.)"
      ]
     },
     "metadata": {},
     "output_type": "display_data"
    },
    {
     "data": {
      "text/html": [
       "\n",
       "      <iframe id=\"tensorboard-frame-d85f17360205df6b\" width=\"100%\" height=\"800\" frameborder=\"0\">\n",
       "      </iframe>\n",
       "      <script>\n",
       "        (function() {\n",
       "          const frame = document.getElementById(\"tensorboard-frame-d85f17360205df6b\");\n",
       "          const url = new URL(\"/\", window.location);\n",
       "          const port = 6006;\n",
       "          if (port) {\n",
       "            url.port = port;\n",
       "          }\n",
       "          frame.src = url;\n",
       "        })();\n",
       "      </script>\n",
       "    "
      ],
      "text/plain": [
       "<IPython.core.display.HTML object>"
      ]
     },
     "metadata": {},
     "output_type": "display_data"
    }
   ],
   "source": [
    "%reload_ext tensorboard\n",
    "%tensorboard --logdir logs/fit"
   ]
  },
  {
   "cell_type": "code",
   "execution_count": 57,
   "id": "a08f3a60",
   "metadata": {},
   "outputs": [],
   "source": [
    "score.append(np.round(history_rms_mae.history['loss'][-1],2))\n",
    "score_val.append(np.round(history_rms_mae.history['val_loss'][-1],2))\n",
    "optimizer.append('rms')\n",
    "loss.append('mae')\n",
    "hl.append(2)"
   ]
  },
  {
   "cell_type": "code",
   "execution_count": 58,
   "id": "e290e179",
   "metadata": {},
   "outputs": [],
   "source": [
    "metrics = pd.DataFrame(zip(score,score_val,optimizer,loss,hl)).rename(columns = {0:'score', 1 : 'validation_score',\n",
    "                                                                      2 : 'optimizer' , 3: 'loss function',\n",
    "                                                                      4: \"num_hidden_layers\"})"
   ]
  },
  {
   "cell_type": "code",
   "execution_count": 59,
   "id": "92534f66",
   "metadata": {},
   "outputs": [
    {
     "data": {
      "text/html": [
       "<div>\n",
       "<style scoped>\n",
       "    .dataframe tbody tr th:only-of-type {\n",
       "        vertical-align: middle;\n",
       "    }\n",
       "\n",
       "    .dataframe tbody tr th {\n",
       "        vertical-align: top;\n",
       "    }\n",
       "\n",
       "    .dataframe thead th {\n",
       "        text-align: right;\n",
       "    }\n",
       "</style>\n",
       "<table border=\"1\" class=\"dataframe\">\n",
       "  <thead>\n",
       "    <tr style=\"text-align: right;\">\n",
       "      <th></th>\n",
       "      <th>score</th>\n",
       "      <th>validation_score</th>\n",
       "      <th>optimizer</th>\n",
       "      <th>loss function</th>\n",
       "      <th>num_hidden_layers</th>\n",
       "    </tr>\n",
       "  </thead>\n",
       "  <tbody>\n",
       "    <tr>\n",
       "      <th>11</th>\n",
       "      <td>1.16</td>\n",
       "      <td>1.13</td>\n",
       "      <td>rms</td>\n",
       "      <td>mae</td>\n",
       "      <td>2</td>\n",
       "    </tr>\n",
       "    <tr>\n",
       "      <th>9</th>\n",
       "      <td>2.22</td>\n",
       "      <td>2.32</td>\n",
       "      <td>sgd</td>\n",
       "      <td>mae</td>\n",
       "      <td>2</td>\n",
       "    </tr>\n",
       "    <tr>\n",
       "      <th>5</th>\n",
       "      <td>2.28</td>\n",
       "      <td>2.20</td>\n",
       "      <td>rms</td>\n",
       "      <td>mae</td>\n",
       "      <td>0</td>\n",
       "    </tr>\n",
       "    <tr>\n",
       "      <th>7</th>\n",
       "      <td>9.28</td>\n",
       "      <td>9.18</td>\n",
       "      <td>adam</td>\n",
       "      <td>mse</td>\n",
       "      <td>2</td>\n",
       "    </tr>\n",
       "    <tr>\n",
       "      <th>8</th>\n",
       "      <td>9.62</td>\n",
       "      <td>9.44</td>\n",
       "      <td>rms</td>\n",
       "      <td>mse</td>\n",
       "      <td>2</td>\n",
       "    </tr>\n",
       "    <tr>\n",
       "      <th>10</th>\n",
       "      <td>11.33</td>\n",
       "      <td>11.80</td>\n",
       "      <td>adam</td>\n",
       "      <td>mae</td>\n",
       "      <td>2</td>\n",
       "    </tr>\n",
       "    <tr>\n",
       "      <th>3</th>\n",
       "      <td>12.20</td>\n",
       "      <td>12.67</td>\n",
       "      <td>sgd</td>\n",
       "      <td>mae</td>\n",
       "      <td>0</td>\n",
       "    </tr>\n",
       "    <tr>\n",
       "      <th>4</th>\n",
       "      <td>12.20</td>\n",
       "      <td>12.67</td>\n",
       "      <td>adam</td>\n",
       "      <td>mae</td>\n",
       "      <td>0</td>\n",
       "    </tr>\n",
       "    <tr>\n",
       "      <th>1</th>\n",
       "      <td>35.70</td>\n",
       "      <td>37.70</td>\n",
       "      <td>adam</td>\n",
       "      <td>mse</td>\n",
       "      <td>0</td>\n",
       "    </tr>\n",
       "    <tr>\n",
       "      <th>2</th>\n",
       "      <td>36.95</td>\n",
       "      <td>38.38</td>\n",
       "      <td>rms</td>\n",
       "      <td>mse</td>\n",
       "      <td>0</td>\n",
       "    </tr>\n",
       "    <tr>\n",
       "      <th>6</th>\n",
       "      <td>85.36</td>\n",
       "      <td>89.50</td>\n",
       "      <td>sgd</td>\n",
       "      <td>mse</td>\n",
       "      <td>2</td>\n",
       "    </tr>\n",
       "    <tr>\n",
       "      <th>0</th>\n",
       "      <td>NaN</td>\n",
       "      <td>NaN</td>\n",
       "      <td>sgd</td>\n",
       "      <td>mse</td>\n",
       "      <td>0</td>\n",
       "    </tr>\n",
       "  </tbody>\n",
       "</table>\n",
       "</div>"
      ],
      "text/plain": [
       "    score  validation_score optimizer loss function  num_hidden_layers\n",
       "11   1.16              1.13       rms           mae                  2\n",
       "9    2.22              2.32       sgd           mae                  2\n",
       "5    2.28              2.20       rms           mae                  0\n",
       "7    9.28              9.18      adam           mse                  2\n",
       "8    9.62              9.44       rms           mse                  2\n",
       "10  11.33             11.80      adam           mae                  2\n",
       "3   12.20             12.67       sgd           mae                  0\n",
       "4   12.20             12.67      adam           mae                  0\n",
       "1   35.70             37.70      adam           mse                  0\n",
       "2   36.95             38.38       rms           mse                  0\n",
       "6   85.36             89.50       sgd           mse                  2\n",
       "0     NaN               NaN       sgd           mse                  0"
      ]
     },
     "execution_count": 59,
     "metadata": {},
     "output_type": "execute_result"
    }
   ],
   "source": [
    "metrics.sort_values(by = 'score')"
   ]
  },
  {
   "cell_type": "code",
   "execution_count": 60,
   "id": "9f59bbc1",
   "metadata": {},
   "outputs": [
    {
     "name": "stdout",
     "output_type": "stream",
     "text": [
      "39621/39621 [==============================] - 18s 448us/step\n",
      "r squared score: 0.89\n",
      "mean absolute error: 1.13\n",
      "mean squared error: 9.8\n"
     ]
    }
   ],
   "source": [
    "y_pred = rms.predict(x_test)\n",
    "\n",
    "print('r squared score:',np.round(r2_score(y_test,y_pred),2))\n",
    "print('mean absolute error:', np.round(mae(y_test,y_pred),2))\n",
    "print('mean squared error:',np.round(mse(y_test,y_pred),2))"
   ]
  },
  {
   "cell_type": "markdown",
   "id": "5b130beb",
   "metadata": {},
   "source": [
    "- After running different variations of regression deep learning models the best performed model was\n",
    "- RMS Optimizer\n",
    "- Two Hidden Layers with 100 nodes and ReLU and Sigmoid Activation functions\n"
   ]
  }
 ],
 "metadata": {
  "kernelspec": {
   "display_name": "Python 3 (ipykernel)",
   "language": "python",
   "name": "python3"
  },
  "language_info": {
   "codemirror_mode": {
    "name": "ipython",
    "version": 3
   },
   "file_extension": ".py",
   "mimetype": "text/x-python",
   "name": "python",
   "nbconvert_exporter": "python",
   "pygments_lexer": "ipython3",
   "version": "3.9.13"
  }
 },
 "nbformat": 4,
 "nbformat_minor": 5
}
